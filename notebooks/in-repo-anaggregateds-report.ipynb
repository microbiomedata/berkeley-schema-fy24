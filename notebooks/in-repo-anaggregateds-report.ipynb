{
 "cells": [
  {
   "cell_type": "markdown",
   "source": [
    "This notebook just reports the nmdc-schema classes for which there's no slot to aggregate the class instances in a Database"
   ],
   "metadata": {
    "collapsed": false
   },
   "id": "c9d9abe3a8959437"
  },
  {
   "cell_type": "code",
   "execution_count": 1,
   "outputs": [],
   "source": [
    "from linkml_runtime import SchemaView"
   ],
   "metadata": {
    "collapsed": false,
    "ExecuteTime": {
     "end_time": "2024-02-02T17:55:46.125818Z",
     "start_time": "2024-02-02T17:55:43.145791Z"
    }
   },
   "id": "9f4bdf7c057f2b62"
  },
  {
   "cell_type": "code",
   "execution_count": 2,
   "outputs": [],
   "source": [
    "local_schema_file = \"../src/schema/nmdc.yaml\""
   ],
   "metadata": {
    "collapsed": false,
    "ExecuteTime": {
     "end_time": "2024-02-02T17:55:48.269802Z",
     "start_time": "2024-02-02T17:55:48.241185Z"
    }
   },
   "id": "15b8c7c5a5cbe272"
  },
  {
   "cell_type": "code",
   "execution_count": 3,
   "outputs": [],
   "source": [
    "target_class = \"Database\""
   ],
   "metadata": {
    "collapsed": false,
    "ExecuteTime": {
     "end_time": "2024-02-02T17:55:49.265818Z",
     "start_time": "2024-02-02T17:55:49.256964Z"
    }
   },
   "id": "6e8eacd9ea93f492"
  },
  {
   "cell_type": "code",
   "execution_count": 4,
   "outputs": [],
   "source": [
    "schema_view = SchemaView(local_schema_file)"
   ],
   "metadata": {
    "collapsed": false,
    "ExecuteTime": {
     "end_time": "2024-02-02T17:55:50.664948Z",
     "start_time": "2024-02-02T17:55:50.108480Z"
    }
   },
   "id": "58bc42c5d64a43"
  },
  {
   "cell_type": "code",
   "execution_count": 5,
   "outputs": [
    {
     "data": {
      "text/plain": "'NMDC'"
     },
     "execution_count": 5,
     "metadata": {},
     "output_type": "execute_result"
    }
   ],
   "source": [
    "schema_view.schema.name"
   ],
   "metadata": {
    "collapsed": false,
    "ExecuteTime": {
     "end_time": "2024-02-02T17:55:51.584910Z",
     "start_time": "2024-02-02T17:55:51.576907Z"
    }
   },
   "id": "f0ec13d56a627848"
  },
  {
   "cell_type": "code",
   "execution_count": 6,
   "outputs": [
    {
     "name": "stderr",
     "output_type": "stream",
     "text": [
      "INFO:root:Importing workflow_execution_activity as workflow_execution_activity from source ../src/schema/nmdc.yaml; base_dir=../src/schema\n",
      "INFO:root:Importing core as core from source ../src/schema/nmdc.yaml; base_dir=../src/schema\n",
      "INFO:root:Importing prov as prov from source ../src/schema/nmdc.yaml; base_dir=../src/schema\n",
      "INFO:root:Importing basic_slots as basic_slots from source ../src/schema/nmdc.yaml; base_dir=../src/schema\n",
      "INFO:root:Importing external_identifiers as external_identifiers from source ../src/schema/nmdc.yaml; base_dir=../src/schema\n",
      "INFO:root:Importing portal/sample_id as portal/sample_id from source ../src/schema/nmdc.yaml; base_dir=../src/schema\n",
      "INFO:root:Importing linkml:types as /Users/MAM/Documents/gitrepos/berkeley-schema-fy24/.venv/lib/python3.9/site-packages/linkml_runtime/linkml_model/model/schema/types from source ../src/schema/nmdc.yaml; base_dir=None\n",
      "INFO:root:Importing portal/mixs_inspired as portal/mixs_inspired from source ../src/schema/nmdc.yaml; base_dir=../src/schema\n",
      "INFO:root:Importing portal/jgi_metatranscriptomics as portal/jgi_metatranscriptomics from source ../src/schema/nmdc.yaml; base_dir=../src/schema\n",
      "INFO:root:Importing portal/jgi_metagenomics as portal/jgi_metagenomics from source ../src/schema/nmdc.yaml; base_dir=../src/schema\n",
      "INFO:root:Importing portal/emsl as portal/emsl from source ../src/schema/nmdc.yaml; base_dir=../src/schema\n",
      "INFO:root:Importing mixs as mixs from source ../src/schema/nmdc.yaml; base_dir=../src/schema\n",
      "INFO:root:Importing annotation as annotation from source ../src/schema/nmdc.yaml; base_dir=../src/schema\n"
     ]
    }
   ],
   "source": [
    "nmdc_classes = schema_view.all_classes()\n",
    "\n",
    "nmdc_class_names = []"
   ],
   "metadata": {
    "collapsed": false,
    "ExecuteTime": {
     "end_time": "2024-02-02T17:55:55.770668Z",
     "start_time": "2024-02-02T17:55:52.973717Z"
    }
   },
   "id": "2edc737a2ecca55"
  },
  {
   "cell_type": "code",
   "execution_count": 7,
   "outputs": [],
   "source": [
    "for ck, cv in nmdc_classes.items():\n",
    "    nmdc_class_names.append(cv.name)"
   ],
   "metadata": {
    "collapsed": false,
    "ExecuteTime": {
     "end_time": "2024-02-02T17:56:00.307728Z",
     "start_time": "2024-02-02T17:56:00.300065Z"
    }
   },
   "id": "7f51633981a8ed3c"
  },
  {
   "cell_type": "code",
   "execution_count": 8,
   "outputs": [],
   "source": [
    "database_slots = schema_view.class_induced_slots(target_class)\n",
    "\n",
    "database_slots_to_ranges = {}\n",
    "database_slot_ranges = []"
   ],
   "metadata": {
    "collapsed": false,
    "ExecuteTime": {
     "end_time": "2024-02-02T17:56:01.419840Z",
     "start_time": "2024-02-02T17:56:01.397908Z"
    }
   },
   "id": "4f0dad8c4e071cd9"
  },
  {
   "cell_type": "code",
   "execution_count": 9,
   "outputs": [],
   "source": [
    "for i in database_slots:\n",
    "    database_slots_to_ranges[i.name] = i.range\n",
    "    database_slot_ranges.append(i.range)"
   ],
   "metadata": {
    "collapsed": false,
    "ExecuteTime": {
     "end_time": "2024-02-02T17:56:02.380664Z",
     "start_time": "2024-02-02T17:56:02.371845Z"
    }
   },
   "id": "9dc38dc6f6ed34a4"
  },
  {
   "cell_type": "code",
   "execution_count": 10,
   "outputs": [],
   "source": [
    "non_database_classes = list(set(nmdc_class_names) - set(database_slot_ranges))\n",
    "non_database_classes.sort()"
   ],
   "metadata": {
    "collapsed": false,
    "ExecuteTime": {
     "end_time": "2024-02-02T17:56:03.245798Z",
     "start_time": "2024-02-02T17:56:03.238018Z"
    }
   },
   "id": "f1c81b6f02d0c47c"
  },
  {
   "cell_type": "code",
   "execution_count": 11,
   "outputs": [
    {
     "data": {
      "text/plain": "['AttributeValue',\n 'BooleanValue',\n 'ChemicalConversionProcess',\n 'ChemicalEntity',\n 'ChromatographicSeparationProcess',\n 'ControlledIdentifiedTermValue',\n 'ControlledTermValue',\n 'CreditAssociation',\n 'Database',\n 'DirectInfusionProcess',\n 'DissolvingProcess',\n 'Doi',\n 'EnvironmentalMaterialTerm',\n 'FailureCategorization',\n 'FiltrationProcess',\n 'FluidHandling',\n 'FunctionalAnnotationTerm',\n 'GeneProduct',\n 'GeolocationValue',\n 'ImageValue',\n 'IntegerValue',\n 'LaboratoryReagent',\n 'MagBin',\n 'MassSpectrometry',\n 'MaterialEntity',\n 'MaterialProcessing',\n 'MetaboliteQuantification',\n 'MetatranscriptomeAnnotation',\n 'MetatranscriptomeAssembly',\n 'MixingProcess',\n 'NamedThing',\n 'NucleotideSequencing',\n 'OntologyClass',\n 'OrthologyGroup',\n 'Pathway',\n 'PeptideQuantification',\n 'PersonValue',\n 'ProteinQuantification',\n 'Protocol',\n 'ProtocolExecution',\n 'QuantityValue',\n 'Reaction',\n 'ReactionParticipant',\n 'ReagentsCollection',\n 'Site',\n 'Solution',\n 'SolutionComponent',\n 'SubSamplingProcess',\n 'TextValue',\n 'TimestampValue',\n 'UrlValue']"
     },
     "execution_count": 11,
     "metadata": {},
     "output_type": "execute_result"
    }
   ],
   "source": [
    "non_database_classes"
   ],
   "metadata": {
    "collapsed": false,
    "ExecuteTime": {
     "end_time": "2024-02-02T17:56:04.908074Z",
     "start_time": "2024-02-02T17:56:04.901575Z"
    }
   },
   "id": "bf7d109513dd46db"
  },
  {
   "cell_type": "code",
   "execution_count": null,
   "outputs": [],
   "source": [],
   "metadata": {
    "collapsed": false
   },
   "id": "3971d41bfafd02bf"
  }
 ],
 "metadata": {
  "kernelspec": {
   "display_name": "Python 3",
   "language": "python",
   "name": "python3"
  },
  "language_info": {
   "codemirror_mode": {
    "name": "ipython",
    "version": 2
   },
   "file_extension": ".py",
   "mimetype": "text/x-python",
   "name": "python",
   "nbconvert_exporter": "python",
   "pygments_lexer": "ipython2",
   "version": "2.7.6"
  }
 },
 "nbformat": 4,
 "nbformat_minor": 5
}
