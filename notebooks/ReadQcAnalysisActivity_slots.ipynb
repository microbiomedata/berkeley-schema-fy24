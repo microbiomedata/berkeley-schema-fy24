{
    "cells": [
        {
            "cell_type": "code",
            "execution_count": 1,
            "metadata": {
                "collapsed": true
            },
            "outputs": [],
            "source": [
                "from linkml_runtime import SchemaView\n",
                "\n",
                "from nmdc_schema.get_nmdc_view import ViewGetter\n",
                "\n",
                "from nmdc_schema.nmdc import ReadQcAnalysis, WorkflowExecution\n",
                "\n",
                "from linkml_runtime.dumpers import yaml_dumper\n",
                "\n",
                "from linkml_runtime.loaders import yaml_loader\n",
                "\n",
                "from linkml.validators.jsonschemavalidator import JsonSchemaDataValidator\n",
                "\n",
                "from nmdc_schema.nmdc_data import get_nmdc_yaml_string, get_materialized_nmdc_yaml_string\n"
            ]
        },
        {
            "cell_type": "code",
            "execution_count": 2,
            "outputs": [],
            "source": [
                "# schema_string = get_nmdc_yaml_string()"
            ],
            "metadata": {
                "collapsed": false
            }
        },
        {
            "cell_type": "code",
            "execution_count": 3,
            "outputs": [],
            "source": [
                "materialized_schema_string = get_materialized_nmdc_yaml_string()"
            ],
            "metadata": {
                "collapsed": false
            }
        },
        {
            "cell_type": "code",
            "execution_count": 4,
            "outputs": [],
            "source": [
                "validator = JsonSchemaDataValidator(materialized_schema_string)"
            ],
            "metadata": {
                "collapsed": false
            }
        },
        {
            "cell_type": "code",
            "execution_count": 5,
            "outputs": [],
            "source": [
                "# could also build the view from the schema string\n",
                "vg = ViewGetter()\n",
                "v = vg.get_view()\n",
                "rqaa = v.induced_class('ReadQcAnalysis')\n",
                "rqaa_slots = rqaa.attributes\n",
                "rqaa_slotnames = [v.name for k, v in rqaa_slots.items()]\n",
                "rqaa_slotnames.sort()\n",
                "\n",
                "# print(rqaa_slotnames)"
            ],
            "metadata": {
                "collapsed": false
            }
        },
        {
            "cell_type": "code",
            "execution_count": 6,
            "outputs": [],
            "source": [
                "# wea_instance_yaml = \"\"\"\n",
                "# id: nmdc:wf-99-ABCDEF\n",
                "# started_at_time: '2021-06-05T14:48:51+00:00'\n",
                "# ended_at_time: '2021-07-15T10:13:20+00:00'\n",
                "# was_informed_by: Activity:2\n",
                "# execution_resource: NERSC-Cori\n",
                "# git_url: http://example.com/gh_issue_1\n",
                "# has_input:\n",
                "# - NamedThing:2a\n",
                "# has_output:\n",
                "# - NamedThing:2b\n",
                "# type: something special\n",
                "# \"\"\""
            ],
            "metadata": {
                "collapsed": false
            }
        },
        {
            "cell_type": "code",
            "execution_count": 7,
            "outputs": [],
            "source": [
                "# wea_instance = yaml_loader.load(wea_instance_yaml, target_class=WorkflowExecution)"
            ],
            "metadata": {
                "collapsed": false
            }
        },
        {
            "cell_type": "code",
            "execution_count": 8,
            "outputs": [],
            "source": [
                "# validator.validate_object(wea_instance, target_class=WorkflowExecution)"
            ],
            "metadata": {
                "collapsed": false
            }
        },
        {
            "cell_type": "code",
            "execution_count": 9,
            "outputs": [],
            "source": [
                "rqaa_instance_yaml = \"\"\"\n",
                "id: nmdc:wfrqc-99-ABCDEF\n",
                "name: name1\n",
                "started_at_time: '2021-08-05T14:48:51+00:00'\n",
                "ended_at_time: '2021-09-15T10:13:20+00:00'\n",
                "was_informed_by: was_informed_by1\n",
                "used: used1\n",
                "execution_resource: execution_resource1\n",
                "git_url: git_url1\n",
                "has_input:\n",
                "- input1\n",
                "has_output:\n",
                "- output1\n",
                "type: type1\n",
                "part_of:\n",
                "- part_of1\n",
                "version: version1\n",
                "input_read_count: 10.0\n",
                "input_base_count: 300.0\n",
                "output_read_count: 3.0\n",
                "output_base_count: 100.0\n",
                "# was_associated_with: nmdc:wfrqc-99-ABCDEF\n",
                "input_read_bases: 300\n",
                "output_read_bases: 100\n",
                "\"\"\"\n"
            ],
            "metadata": {
                "collapsed": false
            }
        },
        {
            "cell_type": "code",
            "execution_count": 10,
            "outputs": [],
            "source": [
                "rqaa_instance = yaml_loader.load(rqaa_instance_yaml, target_class=ReadQcAnalysis)\n",
                "\n",
                "rqaa_instance.was_associated_with = \"nmdc:wf-99-ABCDEF\""
            ],
            "metadata": {
                "collapsed": false
            }
        },
        {
            "cell_type": "code",
            "execution_count": 11,
            "outputs": [],
            "source": [
                "validator.validate_object(rqaa_instance, target_class=ReadQcAnalysis)"
            ],
            "metadata": {
                "collapsed": false
            }
        },
        {
            "cell_type": "code",
            "execution_count": 12,
            "outputs": [
                {
                    "name": "stdout",
                    "output_type": "stream",
                    "text": [
                        "id: nmdc:wfrqc-99-ABCDEF\n",
                        "name: name1\n",
                        "started_at_time: '2021-08-05T14:48:51+00:00'\n",
                        "ended_at_time: '2021-09-15T10:13:20+00:00'\n",
                        "was_informed_by: was_informed_by1\n",
                        "was_associated_with: nmdc:wf-99-ABCDEF\n",
                        "used: used1\n",
                        "execution_resource: execution_resource1\n",
                        "git_url: git_url1\n",
                        "has_input:\n",
                        "- input1\n",
                        "has_output:\n",
                        "- output1\n",
                        "type: type1\n",
                        "part_of:\n",
                        "- part_of1\n",
                        "version: version1\n",
                        "input_read_count: 10.0\n",
                        "input_base_count: 300.0\n",
                        "output_read_count: 3.0\n",
                        "output_base_count: 100.0\n",
                        "input_read_bases: 300.0\n",
                        "output_read_bases: 100.0\n",
                        "\n"
                    ]
                }
            ],
            "source": [
                "print(yaml_dumper.dumps(rqaa_instance))"
            ],
            "metadata": {
                "collapsed": false
            }
        },
        {
            "cell_type": "code",
            "execution_count": null,
            "outputs": [],
            "source": [],
            "metadata": {
                "collapsed": false
            }
        }
    ],
    "metadata": {
        "kernelspec": {
            "display_name": "Python 3",
            "language": "python",
            "name": "python3"
        },
        "language_info": {
            "codemirror_mode": {
                "name": "ipython",
                "version": 2
            },
            "file_extension": ".py",
            "mimetype": "text/x-python",
            "name": "python",
            "nbconvert_exporter": "python",
            "pygments_lexer": "ipython2",
            "version": "2.7.6"
        }
    },
    "nbformat": 4,
    "nbformat_minor": 0
}