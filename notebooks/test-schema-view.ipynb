{
 "cells": [
  {
   "cell_type": "markdown",
   "id": "classified-culture",
   "metadata": {},
   "source": [
    "# Test Schema View\n",
    "Notebook that tests how to use the linkml shema view utility for interrogating the NMDC Schema."
   ]
  },
  {
   "cell_type": "code",
   "execution_count": 1,
   "id": "affiliated-northern",
   "metadata": {},
   "outputs": [],
   "source": [
    "from linkml_runtime.utils.schemaview import SchemaView"
   ]
  },
  {
   "cell_type": "code",
   "execution_count": 2,
   "id": "homeless-consent",
   "metadata": {},
   "outputs": [],
   "source": [
    "view = SchemaView('../src/schema/nmdc.yaml')"
   ]
  },
  {
   "cell_type": "code",
   "execution_count": 3,
   "id": "organized-rotation",
   "metadata": {},
   "outputs": [
    {
     "data": {
      "text/plain": [
       "['NMDC',\n",
       " 'external_identifiers',\n",
       " 'core',\n",
       " 'prov',\n",
       " 'basic_slots',\n",
       " 'linkml:types',\n",
       " 'annotation',\n",
       " 'workflow_execution_activity',\n",
       " 'mixs']"
      ]
     },
     "execution_count": 3,
     "metadata": {},
     "output_type": "execute_result"
    }
   ],
   "source": [
    "view.imports_closure()"
   ]
  },
  {
   "cell_type": "markdown",
   "id": "substantial-newark",
   "metadata": {},
   "source": [
    "### Get list of classes (limit to 5)"
   ]
  },
  {
   "cell_type": "code",
   "execution_count": 4,
   "id": "painful-update",
   "metadata": {},
   "outputs": [
    {
     "name": "stderr",
     "output_type": "stream",
     "text": [
      "/var/folders/y_/64f732h167b9rmtn1k_dc8f00000gn/T/ipykernel_39623/2847854119.py:1: DeprecationWarning: Call to deprecated method all_class. (Use `all_classes` instead)\n",
      "  list(view.all_class())[0:5]\n"
     ]
    },
    {
     "data": {
      "text/plain": [
       "['database', 'data object', 'biosample', 'study', 'biosample processing']"
      ]
     },
     "execution_count": 4,
     "metadata": {},
     "output_type": "execute_result"
    }
   ],
   "source": [
    "list(view.all_class())[0:5]"
   ]
  },
  {
   "cell_type": "markdown",
   "id": "bottom-falls",
   "metadata": {},
   "source": [
    "### Get list of all slots (limit to 5)"
   ]
  },
  {
   "cell_type": "code",
   "execution_count": 5,
   "id": "hired-springfield",
   "metadata": {},
   "outputs": [
    {
     "name": "stderr",
     "output_type": "stream",
     "text": [
      "/var/folders/y_/64f732h167b9rmtn1k_dc8f00000gn/T/ipykernel_39623/2610198486.py:1: DeprecationWarning: Call to deprecated method all_slot. (Use `all_slots` instead)\n",
      "  list(view.all_slot())[0:5]\n"
     ]
    },
    {
     "data": {
      "text/plain": [
       "['ess dive datasets',\n",
       " 'has credit associations',\n",
       " 'study image',\n",
       " 'relevant protocols',\n",
       " 'funding sources']"
      ]
     },
     "execution_count": 5,
     "metadata": {},
     "output_type": "execute_result"
    }
   ],
   "source": [
    "list(view.all_slot())[0:5]"
   ]
  },
  {
   "cell_type": "markdown",
   "id": "little-reasoning",
   "metadata": {},
   "source": [
    "### Check if slot is mulitvalued"
   ]
  },
  {
   "cell_type": "code",
   "execution_count": 6,
   "id": "therapeutic-girlfriend",
   "metadata": {},
   "outputs": [
    {
     "data": {
      "text/plain": [
       "True"
      ]
     },
     "execution_count": 6,
     "metadata": {},
     "output_type": "execute_result"
    }
   ],
   "source": [
    "view.get_slot('study set').multivalued"
   ]
  },
  {
   "cell_type": "markdown",
   "id": "broadband-quarter",
   "metadata": {
    "tags": []
   },
   "source": [
    "### Determine range of slot"
   ]
  },
  {
   "cell_type": "code",
   "execution_count": 7,
   "id": "private-suspension",
   "metadata": {},
   "outputs": [
    {
     "data": {
      "text/plain": [
       "'named thing'"
      ]
     },
     "execution_count": 7,
     "metadata": {},
     "output_type": "execute_result"
    }
   ],
   "source": [
    "view.get_slot('has input').range"
   ]
  },
  {
   "cell_type": "markdown",
   "id": "stupid-condition",
   "metadata": {},
   "source": [
    "### Determine range as specified in the slot_usage"
   ]
  },
  {
   "cell_type": "code",
   "execution_count": 8,
   "id": "auburn-synthesis",
   "metadata": {},
   "outputs": [
    {
     "data": {
      "text/plain": [
       "'biosample'"
      ]
     },
     "execution_count": 8,
     "metadata": {},
     "output_type": "execute_result"
    }
   ],
   "source": [
    "view.get_class('biosample processing').slot_usage['has input'].range"
   ]
  },
  {
   "cell_type": "markdown",
   "id": "confused-certification",
   "metadata": {},
   "source": [
    "### If slot is not in slot_usage, an error will be throw. So, use function to determine slot range."
   ]
  },
  {
   "cell_type": "code",
   "execution_count": 9,
   "id": "intended-intake",
   "metadata": {},
   "outputs": [
    {
     "name": "stdout",
     "output_type": "stream",
     "text": [
      "biosample\n",
      "named thing\n"
     ]
    }
   ],
   "source": [
    "def get_class_slot_range(view, class_name, slot_name):\n",
    "    if slot_name in view.get_class(class_name).slot_usage:\n",
    "        return view.get_class(class_name).slot_usage[slot_name].range\n",
    "    else:\n",
    "        return view.get_slot(slot_name).range\n",
    "\n",
    "print(get_class_slot_range(view, 'biosample processing', 'has input'))\n",
    "print(get_class_slot_range(view, 'biosample processing', 'has output'))\n",
    "        "
   ]
  },
  {
   "cell_type": "markdown",
   "id": "sustainable-canal",
   "metadata": {},
   "source": [
    "### Test for non-existent slots"
   ]
  },
  {
   "cell_type": "code",
   "execution_count": 10,
   "id": "fatal-construction",
   "metadata": {},
   "outputs": [],
   "source": [
    "view.get_slot('foo') ## nothing returned"
   ]
  },
  {
   "cell_type": "code",
   "execution_count": 22,
   "id": "collaborative-corporation",
   "metadata": {
    "tags": []
   },
   "outputs": [
    {
     "data": {
      "text/plain": [
       "False"
      ]
     },
     "execution_count": 22,
     "metadata": {},
     "output_type": "execute_result"
    }
   ],
   "source": [
    "'foo' in view.get_class('biosample processing').slots"
   ]
  },
  {
   "cell_type": "markdown",
   "id": "printable-elder",
   "metadata": {},
   "source": [
    "### Use induced_slot method to find range"
   ]
  },
  {
   "cell_type": "code",
   "execution_count": 23,
   "id": "convenient-cause",
   "metadata": {},
   "outputs": [
    {
     "name": "stdout",
     "output_type": "stream",
     "text": [
      "Help on _lru_cache_wrapper in module linkml_runtime.utils.schemaview:\n",
      "\n",
      "induced_slot(self, slot_name: Union[linkml_runtime.linkml_model.meta.SlotDefinitionName, str], class_name: Union[linkml_runtime.linkml_model.meta.ClassDefinitionName, str] = None, imports=True) -> linkml_runtime.linkml_model.meta.SlotDefinition\n",
      "    Given a slot, in the context of a particular class, yield a dynamic SlotDefinition that\n",
      "    has all properties materialized.\n",
      "    \n",
      "    This makes use of schema slots, such as attributes, slot_usage. It also uses ancestor relationships\n",
      "    to infer missing values\n",
      "    \n",
      "    :param slot_name: slot to be queries\n",
      "    :param class_name: class used as context\n",
      "    :param imports: include imports closure\n",
      "    :return: dynamic slot constructed by inference\n",
      "\n"
     ]
    }
   ],
   "source": [
    " help(SchemaView.induced_slot)"
   ]
  },
  {
   "cell_type": "code",
   "execution_count": 24,
   "id": "broken-wisconsin",
   "metadata": {
    "tags": []
   },
   "outputs": [
    {
     "data": {
      "text/plain": [
       "'biosample'"
      ]
     },
     "execution_count": 24,
     "metadata": {},
     "output_type": "execute_result"
    }
   ],
   "source": [
    "view.induced_slot('has input', 'biosample processing').range"
   ]
  },
  {
   "cell_type": "code",
   "execution_count": 25,
   "id": "settled-samba",
   "metadata": {},
   "outputs": [
    {
     "data": {
      "text/plain": [
       "'biosample'"
      ]
     },
     "execution_count": 25,
     "metadata": {},
     "output_type": "execute_result"
    }
   ],
   "source": [
    "view.induced_slot('has input', 'omics processing').range"
   ]
  },
  {
   "cell_type": "markdown",
   "id": "descending-likelihood",
   "metadata": {},
   "source": [
    "### SchemaView won't return the name of the class as it is named in the module. This does."
   ]
  },
  {
   "cell_type": "code",
   "execution_count": 26,
   "id": "canadian-guyana",
   "metadata": {},
   "outputs": [],
   "source": [
    "import inspect\n",
    "from nmdc_schema import nmdc\n",
    "from nmdc_schema.nmdc import *"
   ]
  },
  {
   "cell_type": "code",
   "execution_count": 27,
   "id": "minus-prayer",
   "metadata": {},
   "outputs": [
    {
     "name": "stdout",
     "output_type": "stream",
     "text": [
      "[('Activity', 'activity'), ('Agent', 'agent'), ('AttributeValue', 'attribute value'), ('Biosample', 'biosample'), ('BiosampleProcessing', 'biosample processing')]\n"
     ]
    }
   ],
   "source": [
    "python_name_dict = {}\n",
    "\n",
    "for name, member in inspect.getmembers(nmdc):\n",
    "    if inspect.isclass(member) and hasattr(member, 'class_name'):\n",
    "        python_name_dict[name] = member.class_name\n",
    "        \n",
    "print(list(python_name_dict.items())[0:5])"
   ]
  },
  {
   "cell_type": "markdown",
   "id": "brown-question",
   "metadata": {},
   "source": [
    "### Use dict of class names to get info"
   ]
  },
  {
   "cell_type": "code",
   "execution_count": 152,
   "id": "placed-graham",
   "metadata": {},
   "outputs": [],
   "source": [
    "# class_name = 'Study'\n",
    "class_name = 'nmdc:Study' # test for curie\n",
    "x_name = class_name if -1 == class_name.find(\":\") else class_name.partition(\":\")[-1]\n",
    "x = view.get_class(python_name_dict[x_name])"
   ]
  },
  {
   "cell_type": "code",
   "execution_count": 153,
   "id": "verbal-bread",
   "metadata": {},
   "outputs": [
    {
     "data": {
      "text/plain": [
       "'study'"
      ]
     },
     "execution_count": 153,
     "metadata": {},
     "output_type": "execute_result"
    }
   ],
   "source": [
    "x.name"
   ]
  },
  {
   "cell_type": "code",
   "execution_count": 217,
   "id": "induced-trailer",
   "metadata": {},
   "outputs": [
    {
     "data": {
      "text/plain": [
       "['ecosystem',\n",
       " 'ecosystem_category',\n",
       " 'ecosystem_type',\n",
       " 'ecosystem_subtype',\n",
       " 'specific_ecosystem',\n",
       " 'principal investigator',\n",
       " 'doi',\n",
       " 'title',\n",
       " 'alternative titles',\n",
       " 'alternative descriptions',\n",
       " 'alternative names',\n",
       " 'abstract',\n",
       " 'objective',\n",
       " 'websites',\n",
       " 'publications',\n",
       " 'ess dive datasets',\n",
       " 'type',\n",
       " 'relevant protocols',\n",
       " 'funding sources',\n",
       " 'INSDC bioproject identifiers',\n",
       " 'INSDC SRA ENA study identifiers',\n",
       " 'GOLD study identifiers',\n",
       " 'MGnify project identifiers',\n",
       " 'has credit associations',\n",
       " 'study image']"
      ]
     },
     "execution_count": 217,
     "metadata": {},
     "output_type": "execute_result"
    }
   ],
   "source": [
    "x.slots"
   ]
  },
  {
   "cell_type": "code",
   "execution_count": 215,
   "id": "coordinated-seminar",
   "metadata": {},
   "outputs": [],
   "source": [
    "s = view.get_slot('websites')"
   ]
  },
  {
   "cell_type": "code",
   "execution_count": 216,
   "id": "sitting-ancient",
   "metadata": {},
   "outputs": [
    {
     "data": {
      "text/plain": [
       "'A list of websites that are assocatiated with the entity.'"
      ]
     },
     "execution_count": 216,
     "metadata": {},
     "output_type": "execute_result"
    }
   ],
   "source": [
    "s.description"
   ]
  },
  {
   "cell_type": "code",
   "execution_count": 209,
   "id": "literary-sunday",
   "metadata": {},
   "outputs": [
    {
     "data": {
      "text/plain": [
       "['doi']"
      ]
     },
     "execution_count": 209,
     "metadata": {},
     "output_type": "execute_result"
    }
   ],
   "source": [
    "list(x.slot_usage) # slot usage is a dict"
   ]
  },
  {
   "cell_type": "code",
   "execution_count": 210,
   "id": "beautiful-underwear",
   "metadata": {},
   "outputs": [],
   "source": [
    "s = view.induced_slot('doi', x.name)"
   ]
  },
  {
   "cell_type": "code",
   "execution_count": 211,
   "id": "stupid-price",
   "metadata": {},
   "outputs": [],
   "source": [
    "s.description # <-- should have the description: The dataset citation for this study"
   ]
  },
  {
   "cell_type": "markdown",
   "id": "complex-gnome",
   "metadata": {},
   "source": [
    "### If necessary, here is how you retrieve a class using a string."
   ]
  },
  {
   "cell_type": "code",
   "execution_count": 28,
   "id": "ancient-entertainment",
   "metadata": {},
   "outputs": [
    {
     "data": {
      "text/plain": [
       "nmdc_schema.nmdc.Biosample"
      ]
     },
     "execution_count": 28,
     "metadata": {},
     "output_type": "execute_result"
    }
   ],
   "source": [
    "eval('nmdc.Biosample')"
   ]
  },
  {
   "cell_type": "code",
   "execution_count": 29,
   "id": "pacific-battery",
   "metadata": {},
   "outputs": [
    {
     "data": {
      "text/plain": [
       "nmdc_schema.nmdc.Biosample"
      ]
     },
     "execution_count": 29,
     "metadata": {},
     "output_type": "execute_result"
    }
   ],
   "source": [
    "eval('Biosample')"
   ]
  },
  {
   "cell_type": "code",
   "execution_count": 30,
   "id": "fiscal-northern",
   "metadata": {},
   "outputs": [
    {
     "data": {
      "text/plain": [
       "True"
      ]
     },
     "execution_count": 30,
     "metadata": {},
     "output_type": "execute_result"
    }
   ],
   "source": [
    "inspect.isclass(eval('Biosample'))"
   ]
  },
  {
   "cell_type": "code",
   "execution_count": 31,
   "id": "nominated-virtue",
   "metadata": {},
   "outputs": [],
   "source": [
    "x = eval('BiosampleProcessing')"
   ]
  },
  {
   "cell_type": "code",
   "execution_count": 32,
   "id": "final-promise",
   "metadata": {},
   "outputs": [
    {
     "data": {
      "text/plain": [
       "'biosample processing'"
      ]
     },
     "execution_count": 32,
     "metadata": {},
     "output_type": "execute_result"
    }
   ],
   "source": [
    "x.class_name"
   ]
  },
  {
   "cell_type": "code",
   "execution_count": null,
   "id": "incorrect-client",
   "metadata": {},
   "outputs": [],
   "source": []
  }
 ],
 "metadata": {
  "kernelspec": {
   "display_name": "Python 3 (ipykernel)",
   "language": "python",
   "name": "python3"
  },
  "language_info": {
   "codemirror_mode": {
    "name": "ipython",
    "version": 3
   },
   "file_extension": ".py",
   "mimetype": "text/x-python",
   "name": "python",
   "nbconvert_exporter": "python",
   "pygments_lexer": "ipython3",
   "version": "3.9.7"
  }
 },
 "nbformat": 4,
 "nbformat_minor": 5
}
