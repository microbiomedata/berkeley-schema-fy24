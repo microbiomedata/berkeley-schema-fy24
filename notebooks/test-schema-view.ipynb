{
 "cells": [
  {
   "cell_type": "markdown",
   "id": "satisfied-wagon",
   "metadata": {},
   "source": [
    "# Test Schema View\n",
    "Notebook that tests how to use the linkml shema view utility for interrogating the NMDC Schema."
   ]
  },
  {
   "cell_type": "code",
   "id": "veterinary-palmer",
   "metadata": {
    "ExecuteTime": {
     "end_time": "2024-06-07T20:49:42.448404Z",
     "start_time": "2024-06-07T20:49:42.444104Z"
    }
   },
   "source": [
    "from linkml_runtime.utils.schemaview import SchemaView"
   ],
   "outputs": [],
   "execution_count": 70
  },
  {
   "cell_type": "code",
   "id": "muslim-volunteer",
   "metadata": {
    "ExecuteTime": {
     "end_time": "2024-06-07T20:49:43.084446Z",
     "start_time": "2024-06-07T20:49:42.988874Z"
    }
   },
   "source": [
    "view = SchemaView('../src/schema/nmdc.yaml')"
   ],
   "outputs": [],
   "execution_count": 71
  },
  {
   "cell_type": "code",
   "id": "going-detective",
   "metadata": {
    "ExecuteTime": {
     "end_time": "2024-06-07T20:49:44.607125Z",
     "start_time": "2024-06-07T20:49:43.465849Z"
    }
   },
   "source": [
    "view.imports_closure()"
   ],
   "outputs": [
    {
     "data": {
      "text/plain": [
       "['core',\n",
       " 'annotation',\n",
       " 'attribute_values',\n",
       " 'external_identifiers',\n",
       " 'linkml:types',\n",
       " 'mixs',\n",
       " 'basic_classes',\n",
       " 'nmdc_subsets',\n",
       " 'nmdc_types',\n",
       " 'basic_slots',\n",
       " 'portal_enums',\n",
       " 'portal_emsl',\n",
       " 'portal_jgi_metagenomics',\n",
       " 'portal_jgi_metatranscriptomics',\n",
       " 'portal_mixs_inspired',\n",
       " 'portal_sample_id',\n",
       " 'workflow_execution_activity',\n",
       " 'NMDC']"
      ]
     },
     "execution_count": 72,
     "metadata": {},
     "output_type": "execute_result"
    }
   ],
   "execution_count": 72
  },
  {
   "cell_type": "markdown",
   "id": "behavioral-yugoslavia",
   "metadata": {},
   "source": [
    "### Get list of classes (limit to 5)"
   ]
  },
  {
   "cell_type": "code",
   "id": "intense-christian",
   "metadata": {
    "ExecuteTime": {
     "end_time": "2024-06-07T20:49:44.614013Z",
     "start_time": "2024-06-07T20:49:44.608610Z"
    }
   },
   "source": "list(view.all_classes())[0:5]",
   "outputs": [
    {
     "data": {
      "text/plain": [
       "['ChemicalConversionProcess',\n",
       " 'MetagenomeAnnotation',\n",
       " 'FieldResearchSite',\n",
       " 'Biosample',\n",
       " 'MobilePhaseSegment']"
      ]
     },
     "execution_count": 73,
     "metadata": {},
     "output_type": "execute_result"
    }
   ],
   "execution_count": 73
  },
  {
   "cell_type": "markdown",
   "id": "cross-minneapolis",
   "metadata": {},
   "source": [
    "### Get list of all slots (limit to 5)"
   ]
  },
  {
   "cell_type": "code",
   "id": "together-fusion",
   "metadata": {
    "ExecuteTime": {
     "end_time": "2024-06-07T20:49:45.562373Z",
     "start_time": "2024-06-07T20:49:45.555613Z"
    }
   },
   "source": "list(view.all_slots())[0:5]",
   "outputs": [
    {
     "data": {
      "text/plain": [
       "['chemical_conversion_category',\n",
       " 'substances_volume',\n",
       " 'biosample_categories',\n",
       " 'collected_from',\n",
       " 'bulk_elect_conductivity']"
      ]
     },
     "execution_count": 74,
     "metadata": {},
     "output_type": "execute_result"
    }
   ],
   "execution_count": 74
  },
  {
   "cell_type": "markdown",
   "id": "skilled-shannon",
   "metadata": {},
   "source": [
    "### Check if slot is mulitvalued"
   ]
  },
  {
   "cell_type": "code",
   "id": "leading-popularity",
   "metadata": {
    "ExecuteTime": {
     "end_time": "2024-06-07T20:49:46.622830Z",
     "start_time": "2024-06-07T20:49:46.618274Z"
    }
   },
   "source": "view.get_slot('study_set').multivalued",
   "outputs": [],
   "execution_count": 75
  },
  {
   "cell_type": "markdown",
   "id": "hybrid-senator",
   "metadata": {
    "tags": []
   },
   "source": [
    "### Determine range of slot"
   ]
  },
  {
   "cell_type": "code",
   "id": "clean-consensus",
   "metadata": {
    "ExecuteTime": {
     "end_time": "2024-06-07T20:49:47.670512Z",
     "start_time": "2024-06-07T20:49:47.666128Z"
    }
   },
   "source": "view.get_slot('has_input').range",
   "outputs": [
    {
     "data": {
      "text/plain": [
       "'NamedThing'"
      ]
     },
     "execution_count": 76,
     "metadata": {},
     "output_type": "execute_result"
    }
   ],
   "execution_count": 76
  },
  {
   "cell_type": "markdown",
   "id": "hired-diving",
   "metadata": {},
   "source": [
    "### Determine range as specified in the slot_usage"
   ]
  },
  {
   "cell_type": "code",
   "id": "bearing-february",
   "metadata": {
    "ExecuteTime": {
     "end_time": "2024-06-07T20:49:48.805834Z",
     "start_time": "2024-06-07T20:49:48.802443Z"
    }
   },
   "source": "view.get_class('MaterialProcessing').slot_usage['has_input'].range",
   "outputs": [],
   "execution_count": 77
  },
  {
   "cell_type": "markdown",
   "id": "alternate-trinidad",
   "metadata": {},
   "source": [
    "### If slot is not in slot_usage, an error will be throw. So, use function to determine slot range."
   ]
  },
  {
   "cell_type": "code",
   "id": "found-branch",
   "metadata": {
    "ExecuteTime": {
     "end_time": "2024-06-07T20:50:17.467956Z",
     "start_time": "2024-06-07T20:50:17.462757Z"
    }
   },
   "source": [
    "def get_class_slot_range(view_obj, class_name, slot_name):\n",
    "    if slot_name in view_obj.get_class(class_name).slot_usage:\n",
    "        return view_obj.get_class(class_name).slot_usage[slot_name].range\n",
    "    else:\n",
    "        return view_obj.get_slot(slot_name).range\n",
    "\n",
    "print(get_class_slot_range(view, 'MaterialProcessing', 'has_input'))\n",
    "        "
   ],
   "outputs": [
    {
     "name": "stdout",
     "output_type": "stream",
     "text": [
      "None\n"
     ]
    }
   ],
   "execution_count": 79
  },
  {
   "cell_type": "markdown",
   "id": "greater-jacksonville",
   "metadata": {},
   "source": [
    "### Test for non-existent slots"
   ]
  },
  {
   "cell_type": "code",
   "id": "gothic-weight",
   "metadata": {},
   "source": [
    "view.get_slot('foo') ## nothing returned"
   ],
   "outputs": [],
   "execution_count": null
  },
  {
   "cell_type": "code",
   "id": "experimental-masters",
   "metadata": {
    "tags": []
   },
   "source": "'foo' in view.get_class('MaterialProcessing').slots",
   "outputs": [],
   "execution_count": null
  },
  {
   "cell_type": "markdown",
   "id": "specialized-civilian",
   "metadata": {},
   "source": [
    "### Use induced_slot method to find range"
   ]
  },
  {
   "cell_type": "code",
   "id": "dominant-modification",
   "metadata": {},
   "source": "help(SchemaView.induced_slot)",
   "outputs": [],
   "execution_count": null
  },
  {
   "cell_type": "code",
   "id": "blocked-deficit",
   "metadata": {
    "tags": []
   },
   "source": "view.induced_slot('has_input', 'MaterialProcessing').range",
   "outputs": [],
   "execution_count": null
  },
  {
   "cell_type": "code",
   "id": "graduate-engineer",
   "metadata": {},
   "source": "view.induced_slot('has_input', 'DataGeneration').range",
   "outputs": [],
   "execution_count": null
  },
  {
   "cell_type": "markdown",
   "id": "extra-bridal",
   "metadata": {},
   "source": [
    "### SchemaView won't return the name of the class as it is named in the module. This does."
   ]
  },
  {
   "cell_type": "code",
   "id": "economic-allowance",
   "metadata": {},
   "source": [
    "import inspect\n",
    "from nmdc_schema import nmdc\n"
   ],
   "outputs": [],
   "execution_count": null
  },
  {
   "cell_type": "code",
   "id": "central-parent",
   "metadata": {},
   "source": [
    "python_name_dict = {}\n",
    "\n",
    "for name, member in inspect.getmembers(nmdc):\n",
    "    if inspect.isclass(member) and hasattr(member, 'class_name'):\n",
    "        python_name_dict[name] = member.class_name\n",
    "        \n",
    "print(list(python_name_dict.items())[0:5])"
   ],
   "outputs": [],
   "execution_count": null
  },
  {
   "cell_type": "markdown",
   "id": "brown-cigarette",
   "metadata": {},
   "source": [
    "### Use dict of class names to get info"
   ]
  },
  {
   "cell_type": "code",
   "id": "legal-procedure",
   "metadata": {},
   "source": [
    "# class_name = 'Study'\n",
    "class_name = 'nmdc:Study' # test for curie\n",
    "x_name = class_name if -1 == class_name.find(\":\") else class_name.partition(\":\")[-1]\n",
    "x = view.get_class(python_name_dict[x_name])"
   ],
   "outputs": [],
   "execution_count": null
  },
  {
   "cell_type": "code",
   "id": "fantastic-memphis",
   "metadata": {},
   "source": [
    "x.name"
   ],
   "outputs": [],
   "execution_count": null
  },
  {
   "cell_type": "code",
   "id": "later-recipient",
   "metadata": {},
   "source": [
    "x.slots"
   ],
   "outputs": [],
   "execution_count": null
  },
  {
   "cell_type": "code",
   "id": "romantic-apartment",
   "metadata": {},
   "source": [
    "s = view.get_slot('websites')"
   ],
   "outputs": [],
   "execution_count": null
  },
  {
   "cell_type": "code",
   "id": "fossil-advocacy",
   "metadata": {},
   "source": [
    "s.description"
   ],
   "outputs": [],
   "execution_count": null
  },
  {
   "cell_type": "code",
   "id": "neural-fleet",
   "metadata": {},
   "source": [
    "list(x.slot_usage) # slot usage is a dict"
   ],
   "outputs": [],
   "execution_count": null
  },
  {
   "cell_type": "code",
   "id": "alone-poverty",
   "metadata": {},
   "source": "s = view.induced_slot('associated_dois', x.name)",
   "outputs": [],
   "execution_count": null
  },
  {
   "cell_type": "code",
   "id": "centered-negotiation",
   "metadata": {},
   "source": [
    "s.description # <-- should have the description: The dataset citation for this study"
   ],
   "outputs": [],
   "execution_count": null
  },
  {
   "cell_type": "markdown",
   "id": "floral-psychiatry",
   "metadata": {},
   "source": [
    "### If necessary, here is how you retrieve a class using a string."
   ]
  },
  {
   "cell_type": "code",
   "id": "employed-memorial",
   "metadata": {},
   "source": [
    "eval('nmdc.Biosample')"
   ],
   "outputs": [],
   "execution_count": null
  },
  {
   "cell_type": "code",
   "id": "efficient-wilderness",
   "metadata": {},
   "source": [
    "eval('Biosample')"
   ],
   "outputs": [],
   "execution_count": null
  },
  {
   "cell_type": "code",
   "id": "resident-european",
   "metadata": {},
   "source": [
    "inspect.isclass(eval('Biosample'))"
   ],
   "outputs": [],
   "execution_count": null
  },
  {
   "cell_type": "code",
   "id": "stuffed-shark",
   "metadata": {},
   "source": "x = eval('MaterialProcessing')",
   "outputs": [],
   "execution_count": null
  },
  {
   "cell_type": "code",
   "id": "economic-uncertainty",
   "metadata": {},
   "source": [
    "x.class_name"
   ],
   "outputs": [],
   "execution_count": null
  },
  {
   "cell_type": "markdown",
   "id": "stylish-motivation",
   "metadata": {},
   "source": [
    "### Example of how to get the permissible values for enums"
   ]
  },
  {
   "cell_type": "code",
   "id": "reasonable-courtesy",
   "metadata": {},
   "source": "file_enums = view.get_enum('FileTypeEnum').permissible_values # returns a dict",
   "outputs": [],
   "execution_count": null
  },
  {
   "cell_type": "markdown",
   "id": "worth-auction",
   "metadata": {},
   "source": [
    "#### get a permissible value"
   ]
  },
  {
   "cell_type": "code",
   "id": "mathematical-nebraska",
   "metadata": {},
   "source": [
    "tigr = file_enums['TIGRFam Annotation GFF']\n",
    "tigr"
   ],
   "outputs": [],
   "execution_count": null
  },
  {
   "cell_type": "code",
   "id": "enhanced-destination",
   "metadata": {},
   "source": [
    "tigr.description"
   ],
   "outputs": [],
   "execution_count": null
  },
  {
   "cell_type": "markdown",
   "id": "ruled-tumor",
   "metadata": {},
   "source": [
    "#### get the annotations for the permissible value\n",
    "note: trying to get the value from an annotation that doesn't exist will throw an error"
   ]
  },
  {
   "cell_type": "code",
   "id": "occupied-letters",
   "metadata": {},
   "source": [
    "tigr.annotations"
   ],
   "outputs": [],
   "execution_count": null
  },
  {
   "cell_type": "code",
   "id": "leading-presentation",
   "metadata": {},
   "source": [
    "tigr.annotations.get('file_name_pattern', None)"
   ],
   "outputs": [],
   "execution_count": null
  },
  {
   "cell_type": "code",
   "id": "least-greensboro",
   "metadata": {},
   "source": [
    "tigr.annotations.get('file_name_pattern', None).value"
   ],
   "outputs": [],
   "execution_count": null
  },
  {
   "cell_type": "code",
   "id": "caring-easter",
   "metadata": {},
   "source": [],
   "outputs": [],
   "execution_count": null
  }
 ],
 "metadata": {
  "kernelspec": {
   "display_name": "Python 3 (ipykernel)",
   "language": "python",
   "name": "python3"
  },
  "language_info": {
   "codemirror_mode": {
    "name": "ipython",
    "version": 3
   },
   "file_extension": ".py",
   "mimetype": "text/x-python",
   "name": "python",
   "nbconvert_exporter": "python",
   "pygments_lexer": "ipython3",
   "version": "3.9.7"
  }
 },
 "nbformat": 4,
 "nbformat_minor": 5
}
