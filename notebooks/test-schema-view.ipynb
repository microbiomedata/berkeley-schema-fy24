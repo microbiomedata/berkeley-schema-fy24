{
 "cells": [
  {
   "cell_type": "markdown",
   "id": "3c1ddaae-159f-4c3e-83ab-0d964926d24a",
   "metadata": {},
   "source": [
    "# Test Schema View\n",
    "Notebook that tests how to use the linkml shema view utility for interrogating the NMDC Schema."
   ]
  },
  {
   "cell_type": "code",
   "execution_count": 1,
   "id": "beedf46a-dfc1-4008-9420-5ed2c5ad4a6f",
   "metadata": {},
   "outputs": [],
   "source": [
    "from linkml_runtime.utils.schemaview import SchemaView"
   ]
  },
  {
   "cell_type": "code",
   "execution_count": 2,
   "id": "701ed297-69bd-482f-a993-e0c3ceccb9da",
   "metadata": {},
   "outputs": [],
   "source": [
    "view = SchemaView('../src/schema/nmdc.yaml')"
   ]
  },
  {
   "cell_type": "code",
   "execution_count": 3,
   "id": "ab351290-8256-4b57-ace7-ed13428fc8a0",
   "metadata": {},
   "outputs": [
    {
     "data": {
      "text/plain": [
       "['NMDC',\n",
       " 'external_identifiers',\n",
       " 'core',\n",
       " 'prov',\n",
       " 'basic_slots',\n",
       " 'linkml:types',\n",
       " 'annotation',\n",
       " 'workflow_execution_activity',\n",
       " 'mixs']"
      ]
     },
     "execution_count": 3,
     "metadata": {},
     "output_type": "execute_result"
    }
   ],
   "source": [
    "view.imports_closure()"
   ]
  },
  {
   "cell_type": "markdown",
   "id": "daea1c66-f856-416e-801e-a345b1f8521a",
   "metadata": {},
   "source": [
    "### Get list of classes (limit to 5)"
   ]
  },
  {
   "cell_type": "code",
   "execution_count": 43,
   "id": "79ef52ca-f533-445d-9e4e-9bde480e46ea",
   "metadata": {},
   "outputs": [
    {
     "data": {
      "text/plain": [
       "['database', 'data object', 'biosample', 'study', 'biosample processing']"
      ]
     },
     "execution_count": 43,
     "metadata": {},
     "output_type": "execute_result"
    }
   ],
   "source": [
    "list(view.all_class())[0:5]"
   ]
  },
  {
   "cell_type": "markdown",
   "id": "6e379ecf-f6c4-4679-8725-07546d4920ff",
   "metadata": {},
   "source": [
    "### Get list of all slots (limit to 5)"
   ]
  },
  {
   "cell_type": "code",
   "execution_count": 5,
   "id": "05b19f16-0c0f-49a1-935f-d094ad308419",
   "metadata": {},
   "outputs": [
    {
     "data": {
      "text/plain": [
       "['object set',\n",
       " 'biosample set',\n",
       " 'study set',\n",
       " 'data object set',\n",
       " 'genome feature set']"
      ]
     },
     "execution_count": 5,
     "metadata": {},
     "output_type": "execute_result"
    }
   ],
   "source": [
    "list(view.all_slot())[0:5]"
   ]
  },
  {
   "cell_type": "markdown",
   "id": "6ac5fbbe-3b46-499e-8b78-7b02c30faff4",
   "metadata": {},
   "source": [
    "### Check if slot is mulitvalued"
   ]
  },
  {
   "cell_type": "code",
   "execution_count": 6,
   "id": "59925c87-1842-4cd7-ae69-3efaa5eb372a",
   "metadata": {},
   "outputs": [
    {
     "data": {
      "text/plain": [
       "True"
      ]
     },
     "execution_count": 6,
     "metadata": {},
     "output_type": "execute_result"
    }
   ],
   "source": [
    "view.get_slot('study set').multivalued"
   ]
  },
  {
   "cell_type": "markdown",
   "id": "f30888eb-f3c5-4feb-a612-66573ce28e1f",
   "metadata": {
    "tags": []
   },
   "source": [
    "### Determine range of slot"
   ]
  },
  {
   "cell_type": "code",
   "execution_count": 7,
   "id": "e300830d-9aae-488d-a92d-527992622529",
   "metadata": {},
   "outputs": [
    {
     "data": {
      "text/plain": [
       "'named thing'"
      ]
     },
     "execution_count": 7,
     "metadata": {},
     "output_type": "execute_result"
    }
   ],
   "source": [
    "view.get_slot('has input').range"
   ]
  },
  {
   "cell_type": "markdown",
   "id": "bba7d642-7c8f-43b6-88e4-1a5d242bb126",
   "metadata": {},
   "source": [
    "### Determine range as specified in the slot_usage"
   ]
  },
  {
   "cell_type": "code",
   "execution_count": 8,
   "id": "3a61a921-4de0-45d7-a429-74029e0c9469",
   "metadata": {},
   "outputs": [
    {
     "data": {
      "text/plain": [
       "'biosample'"
      ]
     },
     "execution_count": 8,
     "metadata": {},
     "output_type": "execute_result"
    }
   ],
   "source": [
    "view.get_class('biosample processing').slot_usage['has input'].range"
   ]
  },
  {
   "cell_type": "markdown",
   "id": "7196faf2-35d7-4a7c-aef2-9b95cddc11bb",
   "metadata": {},
   "source": [
    "### If slot is not in slot_usage, an error will be throw. So, use function to determine slot range."
   ]
  },
  {
   "cell_type": "code",
   "execution_count": 9,
   "id": "ca6e2ba0-84bf-456a-bd22-ba459d5afeb3",
   "metadata": {},
   "outputs": [
    {
     "name": "stdout",
     "output_type": "stream",
     "text": [
      "biosample\n",
      "named thing\n"
     ]
    }
   ],
   "source": [
    "def get_class_slot_range(view, class_name, slot_name):\n",
    "    if slot_name in view.get_class(class_name).slot_usage:\n",
    "        return view.get_class(class_name).slot_usage[slot_name].range\n",
    "    else:\n",
    "        return view.get_slot(slot_name).range\n",
    "\n",
    "print(get_class_slot_range(view, 'biosample processing', 'has input'))\n",
    "print(get_class_slot_range(view, 'biosample processing', 'has output'))\n",
    "        "
   ]
  },
  {
   "cell_type": "markdown",
   "id": "b7a079c6-e682-4692-9b0a-c87194c49f2c",
   "metadata": {},
   "source": [
    "### Test for non-existent slots"
   ]
  },
  {
   "cell_type": "code",
   "execution_count": 10,
   "id": "c377e388-bfb1-4d02-989e-4bc286382107",
   "metadata": {},
   "outputs": [],
   "source": [
    "view.get_slot('foo') ## nothing returned"
   ]
  },
  {
   "cell_type": "code",
   "execution_count": 11,
   "id": "6fe451d4-be05-47b3-9ba4-05e4227e01e9",
   "metadata": {},
   "outputs": [
    {
     "data": {
      "text/plain": [
       "False"
      ]
     },
     "execution_count": 11,
     "metadata": {},
     "output_type": "execute_result"
    }
   ],
   "source": [
    "'foo' in view.get_class('biosample processing').slots"
   ]
  },
  {
   "cell_type": "markdown",
   "id": "1ba7d674-af76-4375-a2dc-654b6ffca7d0",
   "metadata": {},
   "source": [
    "### Use induced_slot method to find range"
   ]
  },
  {
   "cell_type": "code",
   "execution_count": 12,
   "id": "dce18c54-ae51-42c0-97fa-eefba2cc8316",
   "metadata": {},
   "outputs": [
    {
     "name": "stdout",
     "output_type": "stream",
     "text": [
      "Help on _lru_cache_wrapper in module linkml_runtime.utils.schemaview:\n",
      "\n",
      "induced_slot(self, slot_name: Union[linkml_runtime.linkml_model.meta.SlotDefinitionName, str], class_name: Union[linkml_runtime.linkml_model.meta.ClassDefinitionName, str] = None, imports=True) -> linkml_runtime.linkml_model.meta.SlotDefinition\n",
      "    Given a slot, in the context of a particular class, yield a dynamic SlotDefinition that\n",
      "    has all properties materialized.\n",
      "    \n",
      "    This makes use of schema slots, such as attributes, slot_usage. It also uses ancestor relationships\n",
      "    to infer missing values\n",
      "    \n",
      "    :param slot_name: slot to be queries\n",
      "    :param class_name: class used as context\n",
      "    :param imports: include imports closure\n",
      "    :return: dynamic slot constructed by inference\n",
      "\n"
     ]
    }
   ],
   "source": [
    " help(SchemaView.induced_slot)"
   ]
  },
  {
   "cell_type": "code",
   "execution_count": 13,
   "id": "47e8346f-acb1-49bd-993d-2d4c24a40560",
   "metadata": {
    "tags": []
   },
   "outputs": [
    {
     "data": {
      "text/plain": [
       "'biosample'"
      ]
     },
     "execution_count": 13,
     "metadata": {},
     "output_type": "execute_result"
    }
   ],
   "source": [
    "view.induced_slot('has input', 'biosample processing').range"
   ]
  },
  {
   "cell_type": "code",
   "execution_count": 32,
   "id": "31f9dbf0-42e1-43e4-9347-7e212741eb81",
   "metadata": {},
   "outputs": [
    {
     "data": {
      "text/plain": [
       "'biosample'"
      ]
     },
     "execution_count": 32,
     "metadata": {},
     "output_type": "execute_result"
    }
   ],
   "source": [
    "view.induced_slot('has input', 'omics processing').range"
   ]
  },
  {
   "cell_type": "markdown",
   "id": "f522c99f-3fc1-49db-a7a3-5577338407d0",
   "metadata": {},
   "source": [
    "### SchemaView won't return the name of the class as it is named in the module. This does."
   ]
  },
  {
   "cell_type": "code",
   "execution_count": 67,
   "id": "da5273c2-28b5-47ad-9edd-9bdecef30e3e",
   "metadata": {},
   "outputs": [],
   "source": [
    "import inspect\n",
    "from nmdc_schema import nmdc\n",
    "from nmdc_schema.nmdc import *"
   ]
  },
  {
   "cell_type": "code",
   "execution_count": 75,
   "id": "597dd35f-4531-4eb0-a56f-9b5b6437c6b6",
   "metadata": {},
   "outputs": [
    {
     "name": "stdout",
     "output_type": "stream",
     "text": [
      "[('Activity', 'activity'), ('Agent', 'agent'), ('AttributeValue', 'attribute value'), ('Biosample', 'biosample'), ('BiosampleProcessing', 'biosample processing')]\n"
     ]
    }
   ],
   "source": [
    "python_name_dict = {}\n",
    "\n",
    "for name, member in inspect.getmembers(nmdc):\n",
    "    if inspect.isclass(member) and hasattr(member, 'class_name'):\n",
    "        python_name_dict[name] = member.class_name\n",
    "        \n",
    "print(list(python_name_dict.items())[0:5])"
   ]
  },
  {
   "cell_type": "markdown",
   "id": "ba6dfd07-dd3e-4f9c-a8e0-5c1f9bb11071",
   "metadata": {},
   "source": [
    "### If necessary, here is how you retrieve a class using a string."
   ]
  },
  {
   "cell_type": "code",
   "execution_count": 56,
   "id": "ad616ad4-30f7-4496-8784-1cf9685752a3",
   "metadata": {},
   "outputs": [
    {
     "data": {
      "text/plain": [
       "<class 'nmdc_schema.nmdc.Biosample'>"
      ]
     },
     "execution_count": 56,
     "metadata": {},
     "output_type": "execute_result"
    }
   ],
   "source": [
    "eval('nmdc.Biosample')"
   ]
  },
  {
   "cell_type": "code",
   "execution_count": 53,
   "id": "2aafbda7-e92f-47e4-82cf-16f7fa2a4f3a",
   "metadata": {},
   "outputs": [
    {
     "data": {
      "text/plain": [
       "<class 'nmdc_schema.nmdc.Biosample'>"
      ]
     },
     "execution_count": 53,
     "metadata": {},
     "output_type": "execute_result"
    }
   ],
   "source": [
    "eval('Biosample')"
   ]
  },
  {
   "cell_type": "code",
   "execution_count": 57,
   "id": "5776fd1c-2398-4f46-a863-1d8253812c45",
   "metadata": {},
   "outputs": [
    {
     "data": {
      "text/plain": [
       "True"
      ]
     },
     "execution_count": 57,
     "metadata": {},
     "output_type": "execute_result"
    }
   ],
   "source": [
    "inspect.isclass(eval('Biosample'))"
   ]
  },
  {
   "cell_type": "code",
   "execution_count": 60,
   "id": "ff16fc15-86e5-4afa-8f88-98806f1828a7",
   "metadata": {},
   "outputs": [],
   "source": [
    "x = eval('BiosampleProcessing')"
   ]
  },
  {
   "cell_type": "code",
   "execution_count": 61,
   "id": "c74092b6-1cf8-4be9-adad-02b4bd81a504",
   "metadata": {},
   "outputs": [
    {
     "data": {
      "text/plain": [
       "'biosample processing'"
      ]
     },
     "execution_count": 61,
     "metadata": {},
     "output_type": "execute_result"
    }
   ],
   "source": [
    "x.class_name"
   ]
  },
  {
   "cell_type": "code",
   "execution_count": null,
   "id": "61587aca-9f39-4a8d-a4e5-6a7eb0c124df",
   "metadata": {},
   "outputs": [],
   "source": []
  }
 ],
 "metadata": {
  "kernelspec": {
   "display_name": "Python 3 (ipykernel)",
   "language": "python",
   "name": "python3"
  },
  "language_info": {
   "codemirror_mode": {
    "name": "ipython",
    "version": 3
   },
   "file_extension": ".py",
   "mimetype": "text/x-python",
   "name": "python",
   "nbconvert_exporter": "python",
   "pygments_lexer": "ipython3",
   "version": "3.9.7"
  }
 },
 "nbformat": 4,
 "nbformat_minor": 5
}
