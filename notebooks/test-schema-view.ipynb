{
 "cells": [
  {
   "cell_type": "markdown",
   "id": "3c1ddaae-159f-4c3e-83ab-0d964926d24a",
   "metadata": {},
   "source": [
    "# Test Schema View\n",
    "Notebook that tests how to use the linkml shema view utility for interrogating the NMDC Schema."
   ]
  },
  {
   "cell_type": "code",
   "execution_count": 3,
   "id": "beedf46a-dfc1-4008-9420-5ed2c5ad4a6f",
   "metadata": {},
   "outputs": [],
   "source": [
    "from linkml_runtime.utils.schemaview import SchemaView"
   ]
  },
  {
   "cell_type": "code",
   "execution_count": 4,
   "id": "701ed297-69bd-482f-a993-e0c3ceccb9da",
   "metadata": {},
   "outputs": [],
   "source": [
    "view = SchemaView('../src/schema/nmdc.yaml')"
   ]
  },
  {
   "cell_type": "code",
   "execution_count": 5,
   "id": "ab351290-8256-4b57-ace7-ed13428fc8a0",
   "metadata": {},
   "outputs": [
    {
     "name": "stdout",
     "output_type": "stream",
     "text": [
      "Loading schema external_identifiers from ../src/schema/nmdc.yaml\n",
      "Loading schema core from ../src/schema/nmdc.yaml\n",
      "Loading schema prov from ../src/schema/nmdc.yaml\n",
      "Loading schema basic_slots from ../src/schema/nmdc.yaml\n",
      "Loading schema https://w3id.org/linkml/types from ../src/schema/nmdc.yaml\n",
      "Loading schema annotation from ../src/schema/nmdc.yaml\n",
      "Loading schema workflow_execution_activity from ../src/schema/nmdc.yaml\n",
      "Loading schema mixs from ../src/schema/nmdc.yaml\n"
     ]
    },
    {
     "data": {
      "text/plain": [
       "['NMDC',\n",
       " 'external_identifiers',\n",
       " 'core',\n",
       " 'prov',\n",
       " 'basic_slots',\n",
       " 'linkml:types',\n",
       " 'annotation',\n",
       " 'workflow_execution_activity',\n",
       " 'mixs']"
      ]
     },
     "execution_count": 5,
     "metadata": {},
     "output_type": "execute_result"
    }
   ],
   "source": [
    "view.imports_closure()"
   ]
  },
  {
   "cell_type": "markdown",
   "id": "daea1c66-f856-416e-801e-a345b1f8521a",
   "metadata": {},
   "source": [
    "### Get list of classes (limit to 5)"
   ]
  },
  {
   "cell_type": "code",
   "execution_count": 38,
   "id": "79ef52ca-f533-445d-9e4e-9bde480e46ea",
   "metadata": {},
   "outputs": [
    {
     "data": {
      "text/plain": [
       "['database', 'data object', 'biosample', 'study', 'biosample processing']"
      ]
     },
     "execution_count": 38,
     "metadata": {},
     "output_type": "execute_result"
    }
   ],
   "source": [
    "list(view.all_class())[0:5]"
   ]
  },
  {
   "cell_type": "markdown",
   "id": "6e379ecf-f6c4-4679-8725-07546d4920ff",
   "metadata": {},
   "source": [
    "### Get list of all slots (limit to 5)"
   ]
  },
  {
   "cell_type": "code",
   "execution_count": 39,
   "id": "05b19f16-0c0f-49a1-935f-d094ad308419",
   "metadata": {},
   "outputs": [
    {
     "data": {
      "text/plain": [
       "['object set',\n",
       " 'biosample set',\n",
       " 'study set',\n",
       " 'data object set',\n",
       " 'genome feature set']"
      ]
     },
     "execution_count": 39,
     "metadata": {},
     "output_type": "execute_result"
    }
   ],
   "source": [
    "list(view.all_slot())[0:5]"
   ]
  },
  {
   "cell_type": "markdown",
   "id": "6ac5fbbe-3b46-499e-8b78-7b02c30faff4",
   "metadata": {},
   "source": [
    "### Check if slot is mulitvalued"
   ]
  },
  {
   "cell_type": "code",
   "execution_count": 9,
   "id": "59925c87-1842-4cd7-ae69-3efaa5eb372a",
   "metadata": {},
   "outputs": [
    {
     "data": {
      "text/plain": [
       "True"
      ]
     },
     "execution_count": 9,
     "metadata": {},
     "output_type": "execute_result"
    }
   ],
   "source": [
    "view.get_slot('study set').multivalued"
   ]
  },
  {
   "cell_type": "markdown",
   "id": "f30888eb-f3c5-4feb-a612-66573ce28e1f",
   "metadata": {
    "tags": []
   },
   "source": [
    "### Determine range of slot"
   ]
  },
  {
   "cell_type": "code",
   "execution_count": 11,
   "id": "e300830d-9aae-488d-a92d-527992622529",
   "metadata": {},
   "outputs": [
    {
     "data": {
      "text/plain": [
       "'named thing'"
      ]
     },
     "execution_count": 11,
     "metadata": {},
     "output_type": "execute_result"
    }
   ],
   "source": [
    "view.get_slot('has input').range"
   ]
  },
  {
   "cell_type": "markdown",
   "id": "bba7d642-7c8f-43b6-88e4-1a5d242bb126",
   "metadata": {},
   "source": [
    "### Determine range as specified in the slot_usage"
   ]
  },
  {
   "cell_type": "code",
   "execution_count": 27,
   "id": "3a61a921-4de0-45d7-a429-74029e0c9469",
   "metadata": {},
   "outputs": [
    {
     "data": {
      "text/plain": [
       "'biosample'"
      ]
     },
     "execution_count": 27,
     "metadata": {},
     "output_type": "execute_result"
    }
   ],
   "source": [
    "view.get_class('biosample processing').slot_usage['has input'].range"
   ]
  },
  {
   "cell_type": "markdown",
   "id": "7196faf2-35d7-4a7c-aef2-9b95cddc11bb",
   "metadata": {},
   "source": [
    "### If slot is not in slot_usage, an error will be throw. So, use function to determine slot range."
   ]
  },
  {
   "cell_type": "code",
   "execution_count": 48,
   "id": "ca6e2ba0-84bf-456a-bd22-ba459d5afeb3",
   "metadata": {},
   "outputs": [
    {
     "name": "stdout",
     "output_type": "stream",
     "text": [
      "biosample\n",
      "named thing\n"
     ]
    }
   ],
   "source": [
    "def get_class_slot_range(view, class_name, slot_name):\n",
    "    if slot_name in view.get_class(class_name).slot_usage:\n",
    "        return view.get_class(class_name).slot_usage[slot_name].range\n",
    "    else:\n",
    "        return view.get_slot(slot_name).range\n",
    "\n",
    "print(get_class_slot_range(view, 'biosample processing', 'has input'))\n",
    "print(get_class_slot_range(view, 'biosample processing', 'has output'))\n",
    "        "
   ]
  },
  {
   "cell_type": "markdown",
   "id": "b7a079c6-e682-4692-9b0a-c87194c49f2c",
   "metadata": {},
   "source": [
    "### Test for non-existent slots"
   ]
  },
  {
   "cell_type": "code",
   "execution_count": 50,
   "id": "c377e388-bfb1-4d02-989e-4bc286382107",
   "metadata": {},
   "outputs": [],
   "source": [
    "view.get_slot('foo') ## nothing returned"
   ]
  },
  {
   "cell_type": "code",
   "execution_count": 52,
   "id": "6fe451d4-be05-47b3-9ba4-05e4227e01e9",
   "metadata": {},
   "outputs": [
    {
     "data": {
      "text/plain": [
       "False"
      ]
     },
     "execution_count": 52,
     "metadata": {},
     "output_type": "execute_result"
    }
   ],
   "source": [
    "'foo' in view.get_class('biosample processing').slots"
   ]
  },
  {
   "cell_type": "markdown",
   "id": "1ba7d674-af76-4375-a2dc-654b6ffca7d0",
   "metadata": {},
   "source": [
    "### Use induced_slot method to find range"
   ]
  },
  {
   "cell_type": "code",
   "execution_count": 65,
   "id": "dce18c54-ae51-42c0-97fa-eefba2cc8316",
   "metadata": {},
   "outputs": [
    {
     "name": "stdout",
     "output_type": "stream",
     "text": [
      "Help on _lru_cache_wrapper in module linkml_runtime.utils.schemaview:\n",
      "\n",
      "induced_slot(self, slot_name: Union[linkml_runtime.linkml_model.meta.SlotDefinitionName, str], class_name: Union[linkml_runtime.linkml_model.meta.ClassDefinitionName, str] = None, imports=True) -> linkml_runtime.linkml_model.meta.SlotDefinition\n",
      "    Given a slot, in the context of a particular class, yield a dynamic SlotDefinition that\n",
      "    has all properties materialized.\n",
      "    \n",
      "    This makes use of schema slots, such as attributes, slot_usage. It also uses ancestor relationships\n",
      "    to infer missing values\n",
      "    \n",
      "    :param slot_name: slot to be queries\n",
      "    :param class_name: class used as context\n",
      "    :param imports: include imports closure\n",
      "    :return: dynamic slot constructed by inference\n",
      "\n"
     ]
    }
   ],
   "source": [
    " help(SchemaView.induced_slot)"
   ]
  },
  {
   "cell_type": "code",
   "execution_count": 66,
   "id": "47e8346f-acb1-49bd-993d-2d4c24a40560",
   "metadata": {
    "tags": []
   },
   "outputs": [
    {
     "data": {
      "text/plain": [
       "'named thing'"
      ]
     },
     "execution_count": 66,
     "metadata": {},
     "output_type": "execute_result"
    }
   ],
   "source": [
    "view.induced_slot('has input', 'biosample processing').range ## BUG!"
   ]
  },
  {
   "cell_type": "code",
   "execution_count": null,
   "id": "31f9dbf0-42e1-43e4-9347-7e212741eb81",
   "metadata": {},
   "outputs": [],
   "source": []
  }
 ],
 "metadata": {
  "kernelspec": {
   "display_name": "Python 3 (ipykernel)",
   "language": "python",
   "name": "python3"
  },
  "language_info": {
   "codemirror_mode": {
    "name": "ipython",
    "version": 3
   },
   "file_extension": ".py",
   "mimetype": "text/x-python",
   "name": "python",
   "nbconvert_exporter": "python",
   "pygments_lexer": "ipython3",
   "version": "3.9.7"
  }
 },
 "nbformat": 4,
 "nbformat_minor": 5
}
