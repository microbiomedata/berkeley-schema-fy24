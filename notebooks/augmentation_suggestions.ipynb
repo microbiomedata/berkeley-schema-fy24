{
 "cells": [
  {
   "cell_type": "code",
   "execution_count": 31,
   "outputs": [],
   "source": [
    "import pandas as pd"
   ],
   "metadata": {
    "collapsed": false
   }
  },
  {
   "cell_type": "code",
   "execution_count": 32,
   "outputs": [],
   "source": [
    "mixs_slots_by_submission_class = pd.read_csv(\"../assets/mixs_slots_by_submission_class.tsv\", delimiter=\"\\t\")"
   ],
   "metadata": {
    "collapsed": false
   }
  },
  {
   "cell_type": "code",
   "execution_count": 33,
   "outputs": [],
   "source": [
    "mixs_slots_from_sheets_and_friends = mixs_slots_by_submission_class['slot'].unique().tolist()"
   ],
   "metadata": {
    "collapsed": false
   }
  },
  {
   "cell_type": "code",
   "execution_count": 34,
   "outputs": [],
   "source": [
    "# mixs_slots_from_sheets_and_friends"
   ],
   "metadata": {
    "collapsed": false
   }
  },
  {
   "cell_type": "code",
   "execution_count": 35,
   "outputs": [],
   "source": [
    "from linkml_runtime import SchemaView"
   ],
   "metadata": {
    "collapsed": false
   }
  },
  {
   "cell_type": "code",
   "execution_count": 36,
   "outputs": [],
   "source": [
    "nmdc_mixs_file = \"../src/schema/mixs.yaml\""
   ],
   "metadata": {
    "collapsed": false
   }
  },
  {
   "cell_type": "code",
   "execution_count": 37,
   "outputs": [],
   "source": [
    "nmdc_mixs_view = SchemaView(nmdc_mixs_file)"
   ],
   "metadata": {
    "collapsed": false
   }
  },
  {
   "cell_type": "code",
   "execution_count": 38,
   "outputs": [
    {
     "name": "stderr",
     "output_type": "stream",
     "text": [
      "WARNING:Namespaces:MIXS namespace is already mapped to https://w3id.org/mixs/ - Mapping to https://w3id.org/mixs/terms/ ignored\n"
     ]
    }
   ],
   "source": [
    "nmdc_mixs_slots = nmdc_mixs_view.all_slots()\n",
    "nmdc_mixs_slot_names = [v.name for k,v in nmdc_mixs_slots.items()]\n",
    "nmdc_mixs_slot_names.sort()"
   ],
   "metadata": {
    "collapsed": false
   }
  },
  {
   "cell_type": "code",
   "execution_count": 39,
   "outputs": [],
   "source": [
    "for_augmentation = list(set(mixs_slots_from_sheets_and_friends) - set(nmdc_mixs_slot_names))\n",
    "for_augmentation.sort()\n"
   ],
   "metadata": {
    "collapsed": false
   }
  },
  {
   "cell_type": "code",
   "execution_count": 40,
   "outputs": [
    {
     "name": "stdout",
     "output_type": "stream",
     "text": [
      "['add_recov_method', 'additional_info', 'address', 'adj_room', 'aero_struc', 'air_PM_concen', 'air_temp', 'ammonium_nitrogen', 'amount_light', 'ances_data', 'antibiotic_regm', 'api', 'arch_struc', 'aromatics_pc', 'asphaltenes_pc', 'atmospheric_data', 'avg_dew_point', 'avg_occup', 'avg_temp', 'bac_prod', 'bac_resp', 'barometric_press', 'basin', 'bathroom_count', 'bedroom_count', 'benzene', 'biochem_oxygen_dem', 'biocide', 'biocide_admin_method', 'biol_stat', 'biomass', 'blood_press_diast', 'blood_press_syst', 'build_docs', 'build_occup_type', 'building_setting', 'built_struc_age', 'built_struc_set', 'built_struc_type', 'carb_dioxide', 'carb_monoxide', 'ceil_area', 'ceil_cond', 'ceil_finish_mat', 'ceil_struc', 'ceil_texture', 'ceil_thermal_mass', 'ceil_type', 'ceil_water_mold', 'chem_mutagen', 'chem_oxygen_dem', 'chem_treat_method', 'chem_treatment', 'conduc', 'cool_syst_id', 'cult_root_med', 'date_last_rain', 'depos_env', 'dew_point', 'diether_lipids', 'diss_inorg_nitro', 'diss_iron', 'diss_oxygen_fluid', 'dna_cont_well', 'door_comp_type', 'door_cond', 'door_direct', 'door_loc', 'door_mat', 'door_move', 'door_size', 'door_type', 'door_type_metal', 'door_type_wood', 'door_water_mold', 'down_par', 'drawings', 'ecosystem', 'ecosystem_category', 'ecosystem_subtype', 'ecosystem_type', 'efficiency_percent', 'elevator', 'emulsions', 'escalator', 'ethylbenzene', 'exp_duct', 'exp_pipe', 'ext_door', 'ext_wall_orient', 'ext_window_orient', 'fertilizer_regm', 'field', 'filter_type', 'fireplace_type', 'floor_age', 'floor_area', 'floor_cond', 'floor_count', 'floor_finish_mat', 'floor_struc', 'floor_thermal_mass', 'floor_water_mold', 'fluor', 'freq_clean', 'freq_cook', 'fungicide_regm', 'furniture', 'gaseous_substances', 'gender_restroom', 'genetic_mod', 'gravidity', 'gravity', 'growth_habit', 'growth_hormone_regm', 'hall_count', 'handidness', 'hc_produced', 'hcr', 'hcr_fw_salinity', 'hcr_geol_age', 'hcr_pressure', 'hcr_temp', 'heat_cool_type', 'heat_deliv_loc', 'heat_sys_deliv_meth', 'heat_system_id', 'height_carper_fiber', 'herbicide_regm', 'horizon_meth', 'host_age', 'host_body_habitat', 'host_body_product', 'host_body_site', 'host_body_temp', 'host_color', 'host_common_name', 'host_diet', 'host_dry_mass', 'host_family_relation', 'host_genotype', 'host_growth_cond', 'host_height', 'host_last_meal', 'host_length', 'host_life_stage', 'host_phenotype', 'host_sex', 'host_shape', 'host_subject_id', 'host_subspecf_genlin', 'host_substrate', 'host_symbiont', 'host_tot_mass', 'host_wet_mass', 'humidity', 'indoor_space', 'indoor_surf', 'indust_eff_percent', 'inorg_particles', 'inside_lux', 'int_wall_cond', 'iw_bt_date_well', 'iwf', 'last_clean', 'lbc_thirty', 'lbceq', 'light_intensity', 'light_type', 'lithology', 'manganese', 'max_occup', 'mech_struc', 'mechanical_damage', 'methane', 'micro_biomass_meth', 'microbial_biomass', 'mineral_nutr_regm', 'nitrate_nitrogen', 'nitrite_nitrogen', 'nitro', 'non_min_nutr_regm', 'number_pets', 'number_plants', 'number_resident', 'occup_density_samp', 'occup_document', 'occup_samp', 'org_carb', 'org_count_qpcr_info', 'org_particles', 'owc_tvdss', 'oxygen', 'part_org_nitro', 'particle_class', 'permeability', 'pesticide_regm', 'ph_regm', 'photon_flux', 'plant_growth_med', 'plant_product', 'plant_sex', 'plant_struc', 'pollutants', 'porosity', 'pour_point', 'pre_treatment', 'pres_animal_insect', 'prev_land_use_meth', 'previous_land_use', 'primary_prod', 'primary_treatment', 'prod_rate', 'prod_start_date', 'quad_pos', 'radiation_regm', 'rainfall_regm', 'reactor_type', 'rel_air_humidity', 'rel_humidity_out', 'rel_samp_loc', 'reservoir', 'resins_pc', 'room_air_exch_rate', 'room_architec_elem', 'room_condt', 'room_connected', 'room_count', 'room_dim', 'room_door_dist', 'room_door_share', 'room_hallway', 'room_loc', 'room_moist_dam_hist', 'room_net_area', 'room_occup', 'room_samp_pos', 'room_type', 'room_vol', 'room_wall_share', 'room_window_count', 'root_cond', 'root_med_carbon', 'root_med_macronutr', 'root_med_micronutr', 'root_med_ph', 'root_med_regl', 'root_med_solid', 'root_med_suppl', 'salt_regm', 'samp_capt_status', 'samp_collec_device', 'samp_collect_point', 'samp_dis_stage', 'samp_floor', 'samp_loc_corr_rate', 'samp_md', 'samp_preserv', 'samp_room_id', 'samp_sort_meth', 'samp_subtype', 'samp_time_out', 'samp_transport_cond', 'samp_tvdss', 'samp_type', 'samp_weather', 'samp_well_name', 'saturates_pc', 'season', 'season_environment', 'season_use', 'secondary_treatment', 'sediment_type', 'sewage_type', 'shad_dev_water_mold', 'shading_device_cond', 'shading_device_loc', 'shading_device_mat', 'shading_device_type', 'silicate', 'size_frac', 'sludge_retent_time', 'soil_horizon', 'soil_text_measure', 'soil_texture_meth', 'solar_irradiance', 'soluble_inorg_mat', 'soluble_org_mat', 'soluble_react_phosp', 'space_typ_state', 'specific', 'specific_ecosystem', 'specific_humidity', 'sr_dep_env', 'sr_geol_age', 'sr_kerog_type', 'sr_lithology', 'standing_water_regm', 'substructure_type', 'sulfate_fw', 'surf_air_cont', 'surf_humidity', 'surf_material', 'surf_moisture', 'surf_moisture_ph', 'surf_temp', 'suspend_part_matter', 'suspend_solids', 'tan', 'temp_out', 'tertiary_treatment', 'tiss_cult_growth_med', 'toluene', 'tot_inorg_nitro', 'tot_iron', 'tot_nitro', 'tot_part_carb', 'tot_phosphate', 'tot_sulfur', 'train_line', 'train_stat_loc', 'train_stop_loc', 'turbidity', 'tvdss_of_hcr_press', 'tvdss_of_hcr_temp', 'typ_occup_density', 'ventilation_rate', 'ventilation_type', 'vfa', 'vfa_fw', 'vis_media', 'viscosity', 'volatile_org_comp', 'wall_area', 'wall_const_type', 'wall_finish_mat', 'wall_height', 'wall_loc', 'wall_surf_treatment', 'wall_texture', 'wall_thermal_mass', 'wall_water_mold', 'wastewater_type', 'water_current', 'water_cut', 'water_feat_size', 'water_feat_type', 'water_prod_rate', 'water_temp_regm', 'weekday', 'win', 'wind_direction', 'wind_speed', 'window_cond', 'window_cover', 'window_horiz_pos', 'window_loc', 'window_mat', 'window_open_freq', 'window_size', 'window_status', 'window_type', 'window_vert_pos', 'window_water_mold', 'xylene', 'zinc']\n"
     ]
    }
   ],
   "source": [
    "print(list(for_augmentation))"
   ],
   "metadata": {
    "collapsed": false
   }
  }
 ],
 "metadata": {
  "kernelspec": {
   "display_name": "Python 3",
   "language": "python",
   "name": "python3"
  },
  "language_info": {
   "codemirror_mode": {
    "name": "ipython",
    "version": 2
   },
   "file_extension": ".py",
   "mimetype": "text/x-python",
   "name": "python",
   "nbconvert_exporter": "python",
   "pygments_lexer": "ipython2",
   "version": "2.7.6"
  }
 },
 "nbformat": 4,
 "nbformat_minor": 0
}
