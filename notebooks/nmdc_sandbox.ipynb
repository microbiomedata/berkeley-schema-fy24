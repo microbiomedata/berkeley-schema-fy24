{
 "cells": [
  {
   "cell_type": "code",
   "execution_count": 25,
   "outputs": [],
   "source": [
    "import pprint\n",
    "\n",
    "import pandas as pd\n",
    "from linkml_runtime import SchemaView\n",
    "from linkml_runtime.dumpers import yaml_dumper"
   ],
   "metadata": {
    "collapsed": false,
    "pycharm": {
     "name": "#%%\n"
    }
   }
  },
  {
   "cell_type": "code",
   "execution_count": 26,
   "metadata": {
    "collapsed": true,
    "pycharm": {
     "name": "#%%\n"
    }
   },
   "outputs": [],
   "source": [
    "import linkml"
   ]
  },
  {
   "cell_type": "code",
   "execution_count": 27,
   "outputs": [],
   "source": [
    "nmdc_schema_file = \"../src/schema/nmdc.yaml\""
   ],
   "metadata": {
    "collapsed": false,
    "pycharm": {
     "name": "#%%\n"
    }
   }
  },
  {
   "cell_type": "code",
   "execution_count": 28,
   "outputs": [],
   "source": [
    "nmdc_schema_view = SchemaView(nmdc_schema_file)"
   ],
   "metadata": {
    "collapsed": false,
    "pycharm": {
     "name": "#%%\n"
    }
   }
  },
  {
   "cell_type": "code",
   "execution_count": null,
   "outputs": [],
   "source": [
    "nmdc_schema_view.merge_imports()"
   ],
   "metadata": {
    "collapsed": false,
    "pycharm": {
     "name": "#%%\n"
    }
   }
  },
  {
   "cell_type": "code",
   "execution_count": 29,
   "outputs": [],
   "source": [
    "nmdc_schema_elements = nmdc_schema_view.all_elements()"
   ],
   "metadata": {
    "collapsed": false,
    "pycharm": {
     "name": "#%%\n"
    }
   }
  },
  {
   "cell_type": "code",
   "execution_count": 35,
   "outputs": [],
   "source": [
    "def make_elements_sheet(schema_elements):\n",
    "    element_list = []\n",
    "    for k,v in schema_elements.items():\n",
    "        # print(v.name)\n",
    "        # print(type(v).class_name)\n",
    "        element_list.append({\"element\":v.name, \"type\":type(v).class_name, \"from_schema\":v.from_schema})\n",
    "    elements_sheet = pd.DataFrame(element_list)\n",
    "    return elements_sheet"
   ],
   "metadata": {
    "collapsed": false,
    "pycharm": {
     "name": "#%%\n"
    }
   }
  },
  {
   "cell_type": "code",
   "execution_count": 36,
   "outputs": [],
   "source": [
    "elements_sheet = make_elements_sheet(nmdc_schema_elements)"
   ],
   "metadata": {
    "collapsed": false,
    "pycharm": {
     "name": "#%%\n"
    }
   }
  },
  {
   "cell_type": "code",
   "execution_count": 37,
   "outputs": [
    {
     "data": {
      "text/plain": "                          element               type  \\\n0                        database   class_definition   \n1                     data object   class_definition   \n2                       biosample   class_definition   \n3                           study   class_definition   \n4            biosample processing   class_definition   \n..                            ...                ...   \n984                 investigation  subset_definition   \n985                mixs extension  subset_definition   \n986  nucleic acid sequence source  subset_definition   \n987                    sequencing  subset_definition   \n988                          soil  subset_definition   \n\n                            from_schema  \n0         https://microbiomedata/schema  \n1         https://microbiomedata/schema  \n2         https://microbiomedata/schema  \n3         https://microbiomedata/schema  \n4         https://microbiomedata/schema  \n..                                  ...  \n984  https://microbiomedata/schema/core  \n985  https://microbiomedata/schema/core  \n986  https://microbiomedata/schema/core  \n987  https://microbiomedata/schema/core  \n988  https://microbiomedata/schema/core  \n\n[989 rows x 3 columns]",
      "text/html": "<div>\n<style scoped>\n    .dataframe tbody tr th:only-of-type {\n        vertical-align: middle;\n    }\n\n    .dataframe tbody tr th {\n        vertical-align: top;\n    }\n\n    .dataframe thead th {\n        text-align: right;\n    }\n</style>\n<table border=\"1\" class=\"dataframe\">\n  <thead>\n    <tr style=\"text-align: right;\">\n      <th></th>\n      <th>element</th>\n      <th>type</th>\n      <th>from_schema</th>\n    </tr>\n  </thead>\n  <tbody>\n    <tr>\n      <th>0</th>\n      <td>database</td>\n      <td>class_definition</td>\n      <td>https://microbiomedata/schema</td>\n    </tr>\n    <tr>\n      <th>1</th>\n      <td>data object</td>\n      <td>class_definition</td>\n      <td>https://microbiomedata/schema</td>\n    </tr>\n    <tr>\n      <th>2</th>\n      <td>biosample</td>\n      <td>class_definition</td>\n      <td>https://microbiomedata/schema</td>\n    </tr>\n    <tr>\n      <th>3</th>\n      <td>study</td>\n      <td>class_definition</td>\n      <td>https://microbiomedata/schema</td>\n    </tr>\n    <tr>\n      <th>4</th>\n      <td>biosample processing</td>\n      <td>class_definition</td>\n      <td>https://microbiomedata/schema</td>\n    </tr>\n    <tr>\n      <th>...</th>\n      <td>...</td>\n      <td>...</td>\n      <td>...</td>\n    </tr>\n    <tr>\n      <th>984</th>\n      <td>investigation</td>\n      <td>subset_definition</td>\n      <td>https://microbiomedata/schema/core</td>\n    </tr>\n    <tr>\n      <th>985</th>\n      <td>mixs extension</td>\n      <td>subset_definition</td>\n      <td>https://microbiomedata/schema/core</td>\n    </tr>\n    <tr>\n      <th>986</th>\n      <td>nucleic acid sequence source</td>\n      <td>subset_definition</td>\n      <td>https://microbiomedata/schema/core</td>\n    </tr>\n    <tr>\n      <th>987</th>\n      <td>sequencing</td>\n      <td>subset_definition</td>\n      <td>https://microbiomedata/schema/core</td>\n    </tr>\n    <tr>\n      <th>988</th>\n      <td>soil</td>\n      <td>subset_definition</td>\n      <td>https://microbiomedata/schema/core</td>\n    </tr>\n  </tbody>\n</table>\n<p>989 rows × 3 columns</p>\n</div>"
     },
     "execution_count": 37,
     "metadata": {},
     "output_type": "execute_result"
    }
   ],
   "source": [
    "elements_sheet"
   ],
   "metadata": {
    "collapsed": false,
    "pycharm": {
     "name": "#%%\n"
    }
   }
  },
  {
   "cell_type": "code",
   "execution_count": 40,
   "outputs": [],
   "source": [
    "nmdc_schema = nmdc_schema_view.schema\n",
    "\n",
    "schema_attributes = nmdc_schema\n",
    "\n",
    "del schema_attributes['classes']\n",
    "del schema_attributes['slots']\n",
    "del schema_attributes['enums']\n",
    "del schema_attributes['subsets']\n",
    "\n"
   ],
   "metadata": {
    "collapsed": false,
    "pycharm": {
     "name": "#%%\n"
    }
   }
  },
  {
   "cell_type": "code",
   "execution_count": 41,
   "outputs": [
    {
     "name": "stdout",
     "output_type": "stream",
     "text": [
      "name: NMDC\n",
      "description: \"Schema for National Microbiome Data Collaborative (NMDC).\\nThis schema\\\n",
      "  \\ is organized into distinct modules:\\n\\n * a set of core types for representing\\\n",
      "  \\ data values\\n * the mixs schema (auto-translated from mixs excel)\\n * annotation\\\n",
      "  \\ schema\\n * the NMDC schema itself\"\n",
      "title: NMDC Schema\n",
      "id: https://microbiomedata/schema\n",
      "version: 4.0.0\n",
      "imports:\n",
      "- annotation\n",
      "- bioscales\n",
      "- core\n",
      "- external_identifiers\n",
      "- linkml:types\n",
      "- mixs\n",
      "- portal/emsl\n",
      "- portal/jgi_metagenomics\n",
      "- portal/jgi_metatranscriptomics\n",
      "- portal/mixs_inspired\n",
      "- portal/sample_id\n",
      "- prov\n",
      "- workflow_execution_activity\n",
      "license: https://creativecommons.org/publicdomain/zero/1.0/\n",
      "prefixes:\n",
      "  GOLD:\n",
      "    prefix_prefix: GOLD\n",
      "    prefix_reference: https://identifiers.org/gold/\n",
      "  MIXS:\n",
      "    prefix_prefix: MIXS\n",
      "    prefix_reference: https://w3id.org/gensc/\n",
      "  MS:\n",
      "    prefix_prefix: MS\n",
      "    prefix_reference: http://purl.obolibrary.org/obo/MS_\n",
      "  NCIT:\n",
      "    prefix_prefix: NCIT\n",
      "    prefix_reference: http://purl.obolibrary.org/obo/NCIT_\n",
      "  OBI:\n",
      "    prefix_prefix: OBI\n",
      "    prefix_reference: http://purl.obolibrary.org/obo/OBI_\n",
      "  biolink:\n",
      "    prefix_prefix: biolink\n",
      "    prefix_reference: https://w3id.org/biolink/vocab/\n",
      "  dcterms:\n",
      "    prefix_prefix: dcterms\n",
      "    prefix_reference: http://purl.org/dc/terms/\n",
      "  igsn:\n",
      "    prefix_prefix: igsn\n",
      "    prefix_reference: https://app.geosamples.org/sample/igsn/\n",
      "  img.taxon:\n",
      "    prefix_prefix: img.taxon\n",
      "    prefix_reference: http://img.jgi.doe.gov/cgi-bin/w/main.cgi?section=TaxonDetail&taxon_oid=\n",
      "  linkml:\n",
      "    prefix_prefix: linkml\n",
      "    prefix_reference: https://w3id.org/linkml/\n",
      "  nmdc:\n",
      "    prefix_prefix: nmdc\n",
      "    prefix_reference: https://microbiomedata/meta/\n",
      "  qud:\n",
      "    prefix_prefix: qud\n",
      "    prefix_reference: http://qudt.org/1.1/schema/qudt#\n",
      "  rdfs:\n",
      "    prefix_prefix: rdfs\n",
      "    prefix_reference: http://www.w3.org/2000/01/rdf-schema#\n",
      "  wgs:\n",
      "    prefix_prefix: wgs\n",
      "    prefix_reference: http://www.w3.org/2003/01/geo/wgs84_pos\n",
      "  COG:\n",
      "    prefix_prefix: COG\n",
      "    prefix_reference: http://example.com/\n",
      "  EC:\n",
      "    prefix_prefix: EC\n",
      "    prefix_reference: http://example.com/\n",
      "  ISA:\n",
      "    prefix_prefix: ISA\n",
      "    prefix_reference: http://example.com/\n",
      "  MetaCyc:\n",
      "    prefix_prefix: MetaCyc\n",
      "    prefix_reference: http://example.com/\n",
      "  MetaNetX:\n",
      "    prefix_prefix: MetaNetX\n",
      "    prefix_reference: http://example.com/\n",
      "  RetroRules:\n",
      "    prefix_prefix: RetroRules\n",
      "    prefix_reference: http://example.com/\n",
      "  UniProtKB:\n",
      "    prefix_prefix: UniProtKB\n",
      "    prefix_reference: http://example.com/\n",
      "  gtpo:\n",
      "    prefix_prefix: gtpo\n",
      "    prefix_reference: http://example.com/\n",
      "  insdc.srs:\n",
      "    prefix_prefix: insdc.srs\n",
      "    prefix_reference: http://example.com/\n",
      "  mgnify:\n",
      "    prefix_prefix: mgnify\n",
      "    prefix_reference: http://example.com/\n",
      "  nmdc_anno:\n",
      "    prefix_prefix: nmdc_anno\n",
      "    prefix_reference: https://microbiomedata/schema/annotation/\n",
      "  nmdc_mixs:\n",
      "    prefix_prefix: nmdc_mixs\n",
      "    prefix_reference: https://microbiomedata/schema/mixs/\n",
      "  nmdc_wfea:\n",
      "    prefix_prefix: nmdc_wfea\n",
      "    prefix_reference: https://microbiomedata/schema/workflow_execution_activity/\n",
      "emit_prefixes:\n",
      "- rdf\n",
      "- rdfs\n",
      "- xsd\n",
      "- skos\n",
      "default_curi_maps:\n",
      "- obo_context\n",
      "- idot_context\n",
      "default_prefix: nmdc\n",
      "default_range: string\n",
      "source_file: ../src/schema/nmdc.yaml\n",
      "\n"
     ]
    }
   ],
   "source": [
    "print(yaml_dumper.dumps(schema_attributes))"
   ],
   "metadata": {
    "collapsed": false,
    "pycharm": {
     "name": "#%%\n"
    }
   }
  },
  {
   "cell_type": "code",
   "execution_count": 42,
   "outputs": [
    {
     "name": "stdout",
     "output_type": "stream",
     "text": [
      "GOLD:\n",
      "  prefix_prefix: GOLD\n",
      "  prefix_reference: https://identifiers.org/gold/\n",
      "MIXS:\n",
      "  prefix_prefix: MIXS\n",
      "  prefix_reference: https://w3id.org/gensc/\n",
      "MS:\n",
      "  prefix_prefix: MS\n",
      "  prefix_reference: http://purl.obolibrary.org/obo/MS_\n",
      "NCIT:\n",
      "  prefix_prefix: NCIT\n",
      "  prefix_reference: http://purl.obolibrary.org/obo/NCIT_\n",
      "OBI:\n",
      "  prefix_prefix: OBI\n",
      "  prefix_reference: http://purl.obolibrary.org/obo/OBI_\n",
      "biolink:\n",
      "  prefix_prefix: biolink\n",
      "  prefix_reference: https://w3id.org/biolink/vocab/\n",
      "dcterms:\n",
      "  prefix_prefix: dcterms\n",
      "  prefix_reference: http://purl.org/dc/terms/\n",
      "igsn:\n",
      "  prefix_prefix: igsn\n",
      "  prefix_reference: https://app.geosamples.org/sample/igsn/\n",
      "img.taxon:\n",
      "  prefix_prefix: img.taxon\n",
      "  prefix_reference: http://img.jgi.doe.gov/cgi-bin/w/main.cgi?section=TaxonDetail&taxon_oid=\n",
      "linkml:\n",
      "  prefix_prefix: linkml\n",
      "  prefix_reference: https://w3id.org/linkml/\n",
      "nmdc:\n",
      "  prefix_prefix: nmdc\n",
      "  prefix_reference: https://microbiomedata/meta/\n",
      "qud:\n",
      "  prefix_prefix: qud\n",
      "  prefix_reference: http://qudt.org/1.1/schema/qudt#\n",
      "rdfs:\n",
      "  prefix_prefix: rdfs\n",
      "  prefix_reference: http://www.w3.org/2000/01/rdf-schema#\n",
      "wgs:\n",
      "  prefix_prefix: wgs\n",
      "  prefix_reference: http://www.w3.org/2003/01/geo/wgs84_pos\n",
      "COG:\n",
      "  prefix_prefix: COG\n",
      "  prefix_reference: http://example.com/\n",
      "EC:\n",
      "  prefix_prefix: EC\n",
      "  prefix_reference: http://example.com/\n",
      "ISA:\n",
      "  prefix_prefix: ISA\n",
      "  prefix_reference: http://example.com/\n",
      "MetaCyc:\n",
      "  prefix_prefix: MetaCyc\n",
      "  prefix_reference: http://example.com/\n",
      "MetaNetX:\n",
      "  prefix_prefix: MetaNetX\n",
      "  prefix_reference: http://example.com/\n",
      "RetroRules:\n",
      "  prefix_prefix: RetroRules\n",
      "  prefix_reference: http://example.com/\n",
      "UniProtKB:\n",
      "  prefix_prefix: UniProtKB\n",
      "  prefix_reference: http://example.com/\n",
      "gtpo:\n",
      "  prefix_prefix: gtpo\n",
      "  prefix_reference: http://example.com/\n",
      "insdc.srs:\n",
      "  prefix_prefix: insdc.srs\n",
      "  prefix_reference: http://example.com/\n",
      "mgnify:\n",
      "  prefix_prefix: mgnify\n",
      "  prefix_reference: http://example.com/\n",
      "nmdc_anno:\n",
      "  prefix_prefix: nmdc_anno\n",
      "  prefix_reference: https://microbiomedata/schema/annotation/\n",
      "nmdc_mixs:\n",
      "  prefix_prefix: nmdc_mixs\n",
      "  prefix_reference: https://microbiomedata/schema/mixs/\n",
      "nmdc_wfea:\n",
      "  prefix_prefix: nmdc_wfea\n",
      "  prefix_reference: https://microbiomedata/schema/workflow_execution_activity/\n",
      "\n"
     ]
    }
   ],
   "source": [
    "print(yaml_dumper.dumps(schema_attributes.prefixes))"
   ],
   "metadata": {
    "collapsed": false,
    "pycharm": {
     "name": "#%%\n"
    }
   }
  },
  {
   "cell_type": "code",
   "execution_count": 44,
   "outputs": [
    {
     "name": "stdout",
     "output_type": "stream",
     "text": [
      "GOLD https://identifiers.org/gold/\n",
      "MIXS https://w3id.org/gensc/\n",
      "MS http://purl.obolibrary.org/obo/MS_\n",
      "NCIT http://purl.obolibrary.org/obo/NCIT_\n",
      "OBI http://purl.obolibrary.org/obo/OBI_\n",
      "biolink https://w3id.org/biolink/vocab/\n",
      "dcterms http://purl.org/dc/terms/\n",
      "igsn https://app.geosamples.org/sample/igsn/\n",
      "img.taxon http://img.jgi.doe.gov/cgi-bin/w/main.cgi?section=TaxonDetail&taxon_oid=\n",
      "linkml https://w3id.org/linkml/\n",
      "nmdc https://microbiomedata/meta/\n",
      "qud http://qudt.org/1.1/schema/qudt#\n",
      "rdfs http://www.w3.org/2000/01/rdf-schema#\n",
      "wgs http://www.w3.org/2003/01/geo/wgs84_pos\n",
      "COG http://example.com/\n",
      "EC http://example.com/\n",
      "ISA http://example.com/\n",
      "MetaCyc http://example.com/\n",
      "MetaNetX http://example.com/\n",
      "RetroRules http://example.com/\n",
      "UniProtKB http://example.com/\n",
      "gtpo http://example.com/\n",
      "insdc.srs http://example.com/\n",
      "mgnify http://example.com/\n",
      "nmdc_anno https://microbiomedata/schema/annotation/\n",
      "nmdc_mixs https://microbiomedata/schema/mixs/\n",
      "nmdc_wfea https://microbiomedata/schema/workflow_execution_activity/\n"
     ]
    },
    {
     "data": {
      "text/plain": "   prefix_prefix                                   prefix_reference\n0           GOLD                      https://identifiers.org/gold/\n1           MIXS                            https://w3id.org/gensc/\n2             MS                 http://purl.obolibrary.org/obo/MS_\n3           NCIT               http://purl.obolibrary.org/obo/NCIT_\n4            OBI                http://purl.obolibrary.org/obo/OBI_\n5        biolink                    https://w3id.org/biolink/vocab/\n6        dcterms                          http://purl.org/dc/terms/\n7           igsn            https://app.geosamples.org/sample/igsn/\n8      img.taxon  http://img.jgi.doe.gov/cgi-bin/w/main.cgi?sect...\n9         linkml                           https://w3id.org/linkml/\n10          nmdc                       https://microbiomedata/meta/\n11           qud                   http://qudt.org/1.1/schema/qudt#\n12          rdfs              http://www.w3.org/2000/01/rdf-schema#\n13           wgs            http://www.w3.org/2003/01/geo/wgs84_pos\n14           COG                                http://example.com/\n15            EC                                http://example.com/\n16           ISA                                http://example.com/\n17       MetaCyc                                http://example.com/\n18      MetaNetX                                http://example.com/\n19    RetroRules                                http://example.com/\n20     UniProtKB                                http://example.com/\n21          gtpo                                http://example.com/\n22     insdc.srs                                http://example.com/\n23        mgnify                                http://example.com/\n24     nmdc_anno          https://microbiomedata/schema/annotation/\n25     nmdc_mixs                https://microbiomedata/schema/mixs/\n26     nmdc_wfea  https://microbiomedata/schema/workflow_executi...",
      "text/html": "<div>\n<style scoped>\n    .dataframe tbody tr th:only-of-type {\n        vertical-align: middle;\n    }\n\n    .dataframe tbody tr th {\n        vertical-align: top;\n    }\n\n    .dataframe thead th {\n        text-align: right;\n    }\n</style>\n<table border=\"1\" class=\"dataframe\">\n  <thead>\n    <tr style=\"text-align: right;\">\n      <th></th>\n      <th>prefix_prefix</th>\n      <th>prefix_reference</th>\n    </tr>\n  </thead>\n  <tbody>\n    <tr>\n      <th>0</th>\n      <td>GOLD</td>\n      <td>https://identifiers.org/gold/</td>\n    </tr>\n    <tr>\n      <th>1</th>\n      <td>MIXS</td>\n      <td>https://w3id.org/gensc/</td>\n    </tr>\n    <tr>\n      <th>2</th>\n      <td>MS</td>\n      <td>http://purl.obolibrary.org/obo/MS_</td>\n    </tr>\n    <tr>\n      <th>3</th>\n      <td>NCIT</td>\n      <td>http://purl.obolibrary.org/obo/NCIT_</td>\n    </tr>\n    <tr>\n      <th>4</th>\n      <td>OBI</td>\n      <td>http://purl.obolibrary.org/obo/OBI_</td>\n    </tr>\n    <tr>\n      <th>5</th>\n      <td>biolink</td>\n      <td>https://w3id.org/biolink/vocab/</td>\n    </tr>\n    <tr>\n      <th>6</th>\n      <td>dcterms</td>\n      <td>http://purl.org/dc/terms/</td>\n    </tr>\n    <tr>\n      <th>7</th>\n      <td>igsn</td>\n      <td>https://app.geosamples.org/sample/igsn/</td>\n    </tr>\n    <tr>\n      <th>8</th>\n      <td>img.taxon</td>\n      <td>http://img.jgi.doe.gov/cgi-bin/w/main.cgi?sect...</td>\n    </tr>\n    <tr>\n      <th>9</th>\n      <td>linkml</td>\n      <td>https://w3id.org/linkml/</td>\n    </tr>\n    <tr>\n      <th>10</th>\n      <td>nmdc</td>\n      <td>https://microbiomedata/meta/</td>\n    </tr>\n    <tr>\n      <th>11</th>\n      <td>qud</td>\n      <td>http://qudt.org/1.1/schema/qudt#</td>\n    </tr>\n    <tr>\n      <th>12</th>\n      <td>rdfs</td>\n      <td>http://www.w3.org/2000/01/rdf-schema#</td>\n    </tr>\n    <tr>\n      <th>13</th>\n      <td>wgs</td>\n      <td>http://www.w3.org/2003/01/geo/wgs84_pos</td>\n    </tr>\n    <tr>\n      <th>14</th>\n      <td>COG</td>\n      <td>http://example.com/</td>\n    </tr>\n    <tr>\n      <th>15</th>\n      <td>EC</td>\n      <td>http://example.com/</td>\n    </tr>\n    <tr>\n      <th>16</th>\n      <td>ISA</td>\n      <td>http://example.com/</td>\n    </tr>\n    <tr>\n      <th>17</th>\n      <td>MetaCyc</td>\n      <td>http://example.com/</td>\n    </tr>\n    <tr>\n      <th>18</th>\n      <td>MetaNetX</td>\n      <td>http://example.com/</td>\n    </tr>\n    <tr>\n      <th>19</th>\n      <td>RetroRules</td>\n      <td>http://example.com/</td>\n    </tr>\n    <tr>\n      <th>20</th>\n      <td>UniProtKB</td>\n      <td>http://example.com/</td>\n    </tr>\n    <tr>\n      <th>21</th>\n      <td>gtpo</td>\n      <td>http://example.com/</td>\n    </tr>\n    <tr>\n      <th>22</th>\n      <td>insdc.srs</td>\n      <td>http://example.com/</td>\n    </tr>\n    <tr>\n      <th>23</th>\n      <td>mgnify</td>\n      <td>http://example.com/</td>\n    </tr>\n    <tr>\n      <th>24</th>\n      <td>nmdc_anno</td>\n      <td>https://microbiomedata/schema/annotation/</td>\n    </tr>\n    <tr>\n      <th>25</th>\n      <td>nmdc_mixs</td>\n      <td>https://microbiomedata/schema/mixs/</td>\n    </tr>\n    <tr>\n      <th>26</th>\n      <td>nmdc_wfea</td>\n      <td>https://microbiomedata/schema/workflow_executi...</td>\n    </tr>\n  </tbody>\n</table>\n</div>"
     },
     "execution_count": 44,
     "metadata": {},
     "output_type": "execute_result"
    }
   ],
   "source": [
    "prefix_list = []\n",
    "\n",
    "for k, v in nmdc_schema_view.schema.prefixes.items():\n",
    "    print(f\"{v['prefix_prefix']} {v['prefix_reference']}\")\n",
    "    prefix_list.append({\"prefix_prefix\": v['prefix_prefix'], \"prefix_reference\": v['prefix_reference']})\n",
    "prefix_sheet = pd.DataFrame(prefix_list)\n",
    "\n",
    "prefix_sheet"
   ],
   "metadata": {
    "collapsed": false,
    "pycharm": {
     "name": "#%%\n"
    }
   }
  },
  {
   "cell_type": "code",
   "execution_count": 45,
   "outputs": [],
   "source": [
    "meta_url=\"https://raw.githubusercontent.com/linkml/linkml-model/main/linkml_model/model/schema/meta.yaml\"\n",
    "meta_view = SchemaView(meta_url)\n",
    "slot_definition = meta_view.induced_class(\"slot_definition\")\n",
    "slot_slots = slot_definition.attributes\n"
   ],
   "metadata": {
    "collapsed": false,
    "pycharm": {
     "name": "#%%\n"
    }
   }
  },
  {
   "cell_type": "code",
   "execution_count": 48,
   "outputs": [
    {
     "data": {
      "text/plain": "['singular_name',\n 'domain',\n 'slot_uri',\n 'multivalued',\n 'inherited',\n 'readonly',\n 'ifabsent',\n 'list_elements_unique',\n 'list_elements_ordered',\n 'shared',\n 'key',\n 'identifier',\n 'designates_type',\n 'alias',\n 'owner',\n 'domain_of',\n 'subproperty_of',\n 'symmetric',\n 'reflexive',\n 'locally_reflexive',\n 'irreflexive',\n 'asymmetric',\n 'transitive',\n 'inverse',\n 'is_class_field',\n 'transitive_form_of',\n 'reflexive_transitive_form_of',\n 'role',\n 'is_usage_slot',\n 'usage_slot_name',\n 'relational_role',\n 'slot_group',\n 'is_grouping_slot',\n 'path_rule',\n 'disjoint_with',\n 'children_are_mutually_disjoint',\n 'union_of',\n 'range',\n 'range_expression',\n 'enum_range',\n 'required',\n 'recommended',\n 'inlined',\n 'inlined_as_list',\n 'minimum_value',\n 'maximum_value',\n 'pattern',\n 'structured_pattern',\n 'unit',\n 'implicit_prefix',\n 'equals_string',\n 'equals_string_in',\n 'equals_number',\n 'equals_expression',\n 'minimum_cardinality',\n 'maximum_cardinality',\n 'has_member',\n 'all_members',\n 'none_of',\n 'exactly_one_of',\n 'any_of',\n 'all_of',\n 'is_a',\n 'abstract',\n 'mixin',\n 'mixins',\n 'apply_to',\n 'values_from',\n 'created_by',\n 'created_on',\n 'last_updated_on',\n 'modified_by',\n 'status',\n 'string_serialization',\n 'name',\n 'id_prefixes',\n 'definition_uri',\n 'local_names',\n 'conforms_to',\n 'extensions',\n 'annotations',\n 'description',\n 'alt_descriptions',\n 'title',\n 'deprecated',\n 'todos',\n 'notes',\n 'comments',\n 'examples',\n 'in_subset',\n 'from_schema',\n 'imported_from',\n 'source',\n 'in_language',\n 'see_also',\n 'deprecated element has exact replacement',\n 'deprecated element has possible replacement',\n 'aliases',\n 'structured_aliases',\n 'mappings',\n 'exact mappings',\n 'close mappings',\n 'related mappings',\n 'narrow mappings',\n 'broad mappings',\n 'rank']"
     },
     "execution_count": 48,
     "metadata": {},
     "output_type": "execute_result"
    }
   ],
   "source": [
    "list(slot_slots.keys())"
   ],
   "metadata": {
    "collapsed": false,
    "pycharm": {
     "name": "#%%\n"
    }
   }
  },
  {
   "cell_type": "code",
   "execution_count": null,
   "outputs": [],
   "source": [],
   "metadata": {
    "collapsed": false,
    "pycharm": {
     "name": "#%%\n"
    }
   }
  }
 ],
 "metadata": {
  "kernelspec": {
   "display_name": "Python 3",
   "language": "python",
   "name": "python3"
  },
  "language_info": {
   "codemirror_mode": {
    "name": "ipython",
    "version": 2
   },
   "file_extension": ".py",
   "mimetype": "text/x-python",
   "name": "python",
   "nbconvert_exporter": "python",
   "pygments_lexer": "ipython2",
   "version": "2.7.6"
  }
 },
 "nbformat": 4,
 "nbformat_minor": 0
}
