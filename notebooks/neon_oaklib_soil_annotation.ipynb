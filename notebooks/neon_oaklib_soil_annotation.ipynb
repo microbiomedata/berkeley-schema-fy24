{
 "cells": [
  {
   "cell_type": "code",
   "execution_count": 1,
   "metadata": {
    "collapsed": true,
    "ExecuteTime": {
     "end_time": "2023-06-05T19:37:03.897225Z",
     "start_time": "2023-06-05T19:37:03.893864Z"
    }
   },
   "outputs": [],
   "source": [
    "import os\n",
    "import pprint\n",
    "import csv"
   ]
  },
  {
   "cell_type": "code",
   "execution_count": 2,
   "outputs": [],
   "source": [
    "output_file = \"../local/NEON_seq-metagenomic-microbe-soil.tsv\""
   ],
   "metadata": {
    "collapsed": false,
    "ExecuteTime": {
     "end_time": "2023-06-05T19:37:03.902002Z",
     "start_time": "2023-06-05T19:37:03.899066Z"
    }
   }
  },
  {
   "cell_type": "code",
   "execution_count": 3,
   "outputs": [],
   "source": [
    "def write_dicts_to_tsv(data, filename):\n",
    "    fieldnames = data[0].keys()  # Assume all dictionaries have the same keys\n",
    "\n",
    "    with open(filename, 'w', newline='', encoding='utf-8') as file:\n",
    "        writer = csv.DictWriter(file, fieldnames=fieldnames, delimiter='\\t')\n",
    "        writer.writeheader()\n",
    "        writer.writerows(data)"
   ],
   "metadata": {
    "collapsed": false,
    "ExecuteTime": {
     "end_time": "2023-06-05T19:37:03.907270Z",
     "start_time": "2023-06-05T19:37:03.905359Z"
    }
   }
  },
  {
   "cell_type": "code",
   "execution_count": 4,
   "outputs": [],
   "source": [
    "neon_dl_dir = \"/Users/MAM/Downloads/NEON_seq-metagenomic-microbe-soil\"\n",
    "subdirectories = [name for name in os.listdir(neon_dl_dir) if os.path.isdir(os.path.join(neon_dl_dir, name))]\n",
    "\n",
    "len_list = []\n",
    "token_dict_list = []\n",
    "for i in subdirectories:\n",
    "    tokens = i.split(\".\")\n",
    "    len_list.append(len(tokens))\n",
    "    temp = {\n",
    "        \"site\": tokens[2],\n",
    "        \"year-month\": tokens[6],\n",
    "        \"release\": tokens[9],\n",
    "    }\n",
    "    token_dict_list.append(temp)\n"
   ],
   "metadata": {
    "collapsed": false,
    "ExecuteTime": {
     "end_time": "2023-06-05T19:37:03.921792Z",
     "start_time": "2023-06-05T19:37:03.911139Z"
    }
   }
  },
  {
   "cell_type": "code",
   "execution_count": 5,
   "outputs": [],
   "source": [
    "write_dicts_to_tsv(token_dict_list, output_file)"
   ],
   "metadata": {
    "collapsed": false,
    "ExecuteTime": {
     "end_time": "2023-06-05T19:37:03.926444Z",
     "start_time": "2023-06-05T19:37:03.920183Z"
    }
   }
  }
 ],
 "metadata": {
  "kernelspec": {
   "display_name": "Python 3",
   "language": "python",
   "name": "python3"
  },
  "language_info": {
   "codemirror_mode": {
    "name": "ipython",
    "version": 2
   },
   "file_extension": ".py",
   "mimetype": "text/x-python",
   "name": "python",
   "nbconvert_exporter": "python",
   "pygments_lexer": "ipython2",
   "version": "2.7.6"
  }
 },
 "nbformat": 4,
 "nbformat_minor": 0
}
