{
 "cells": [
  {
   "cell_type": "code",
   "execution_count": 1,
   "metadata": {
    "collapsed": true,
    "ExecuteTime": {
     "end_time": "2023-06-05T22:47:34.256038Z",
     "start_time": "2023-06-05T22:47:33.525957Z"
    }
   },
   "outputs": [],
   "source": [
    "import os\n",
    "import pprint\n",
    "import csv\n",
    "import requests\n",
    "import pandas as pd"
   ]
  },
  {
   "cell_type": "markdown",
   "source": [
    "releases: RELEASE-2023 RELEASE-2022 RELEASE-2021\n",
    "\n",
    "all of this could be obtained from a few calls to the API, especially the site endpoint\n",
    "\n",
    "https://data.neonscience.org/api/v0/releases/RELEASE-2023/data/package/DP1.10107.001/GUAN/2019-09?package=expanded\n",
    "  obtains a zip archive\n",
    "\n",
    "https://data.neonscience.org/api/v0/data/package/DP1.10107.001/GUAN/2019-09?package=expanded&release=RELEASE-2023\n",
    "  obtains a zip archive\n",
    "\n",
    "https://data.neonscience.org/api/v0/releases/RELEASE-2023/data/DP1.10107.001/GUAN/2019-09?package=expanded\n",
    "  obtains a JSON object with links to files\n",
    "\n",
    "https://data.neonscience.org/api/v0/releases/RELEASE-2023/data/DP1.10107.001/GUAN/2019-09/NEON.D04.GUAN.DP1.10107.001.mms_rawDataFiles.2019-09.expanded.20230113T225344Z.csv?package=expanded\n",
    "  obtains a CSV file,\n",
    "  but you have to know the exact name of the file\n",
    "\n",
    "{'EML',\n",
    " 'categoricalCodes',\n",
    " 'mms_metagenomeDnaExtraction',\n",
    " 'mms_metagenomeSequencing',\n",
    " 'mms_rawDataFiles',\n",
    " 'readme',\n",
    " 'validation',\n",
    " 'variables'}\n",
    "\n"
   ],
   "metadata": {
    "collapsed": false
   }
  },
  {
   "cell_type": "code",
   "execution_count": 2,
   "outputs": [],
   "source": [
    "useful_file_categories = [\n",
    " 'mms_metagenomeDnaExtraction',\n",
    " 'mms_metagenomeSequencing',\n",
    " 'mms_rawDataFiles',\n",
    "]"
   ],
   "metadata": {
    "collapsed": false,
    "ExecuteTime": {
     "end_time": "2023-06-05T22:47:34.260484Z",
     "start_time": "2023-06-05T22:47:34.257506Z"
    }
   }
  },
  {
   "cell_type": "code",
   "execution_count": 3,
   "outputs": [],
   "source": [
    "# neon_dl_dir = \"/Users/MAM/Downloads/NEON_seq-metagenomic-microbe-soil\"\n",
    "# neon_dl_dir_tokens = neon_dl_dir.split(\"/\")\n",
    "# neon_basename = neon_dl_dir_tokens[-1]\n",
    "# output_file = f\"../local/{neon_basename}.tsv\"\n"
   ],
   "metadata": {
    "collapsed": false,
    "ExecuteTime": {
     "end_time": "2023-06-05T22:47:34.264202Z",
     "start_time": "2023-06-05T22:47:34.261007Z"
    }
   }
  },
  {
   "cell_type": "code",
   "execution_count": 4,
   "outputs": [],
   "source": [
    "def write_dicts_to_tsv(data, filename):\n",
    "    fieldnames = data[0].keys()  # Assume all dictionaries have the same keys\n",
    "\n",
    "    with open(filename, 'w', newline='', encoding='utf-8') as file:\n",
    "        writer = csv.DictWriter(file, fieldnames=fieldnames, delimiter='\\t')\n",
    "        writer.writeheader()\n",
    "        writer.writerows(data)"
   ],
   "metadata": {
    "collapsed": false,
    "ExecuteTime": {
     "end_time": "2023-06-05T22:47:34.269345Z",
     "start_time": "2023-06-05T22:47:34.267264Z"
    }
   }
  },
  {
   "cell_type": "code",
   "execution_count": 5,
   "outputs": [],
   "source": [
    "\n",
    "# subdirectories = [name for name in os.listdir(neon_dl_dir) if os.path.isdir(os.path.join(neon_dl_dir, name))]\n",
    "#\n",
    "# len_list = []\n",
    "# token_dict_list = []\n",
    "# for i in subdirectories:\n",
    "#     tokens = i.split(\".\")\n",
    "#     len_list.append(len(tokens))\n",
    "#     temp = {\n",
    "#         \"data_owner\": tokens[0],\n",
    "#         \"geographical_domain\": tokens[1],\n",
    "#         \"siteCode\": tokens[2],\n",
    "#         \"productCode\": f\"{tokens[3]}.{tokens[4]}.{tokens[5]}\",\n",
    "#         \"year-month\": tokens[6],\n",
    "#         \"package\": tokens[7],\n",
    "#         \"timestamp\": tokens[8],\n",
    "#         \"releaseTag\": tokens[9],\n",
    "#     }\n",
    "#     token_dict_list.append(temp)\n"
   ],
   "metadata": {
    "collapsed": false,
    "ExecuteTime": {
     "end_time": "2023-06-05T22:47:34.273134Z",
     "start_time": "2023-06-05T22:47:34.270987Z"
    }
   }
  },
  {
   "cell_type": "code",
   "execution_count": 6,
   "outputs": [],
   "source": [
    "# write_dicts_to_tsv(token_dict_list, output_file)"
   ],
   "metadata": {
    "collapsed": false,
    "ExecuteTime": {
     "end_time": "2023-06-05T22:47:34.283229Z",
     "start_time": "2023-06-05T22:47:34.274359Z"
    }
   }
  },
  {
   "cell_type": "code",
   "execution_count": 7,
   "outputs": [],
   "source": [
    "# first_token_dict = token_dict_list[0]\n",
    "# pprint.pprint(first_token_dict)\n"
   ],
   "metadata": {
    "collapsed": false,
    "ExecuteTime": {
     "end_time": "2023-06-05T22:47:34.283505Z",
     "start_time": "2023-06-05T22:47:34.278112Z"
    }
   }
  },
  {
   "cell_type": "code",
   "execution_count": 8,
   "outputs": [],
   "source": [
    "# product_code = first_token_dict['productCode']\n",
    "# release_tag = first_token_dict['releaseTag']\n",
    "\n",
    "product_code = \"DP1.10107.001\"\n",
    "release_tag = \"RELEASE-2023\"\n",
    "\n",
    "url = f\"https://data.neonscience.org/api/v0/products/{product_code}?release={release_tag}\"\n",
    "response = requests.get(url).json()\n",
    "site_wise = response['data']['siteCodes']"
   ],
   "metadata": {
    "collapsed": false,
    "ExecuteTime": {
     "end_time": "2023-06-05T22:47:34.606038Z",
     "start_time": "2023-06-05T22:47:34.282826Z"
    }
   }
  },
  {
   "cell_type": "code",
   "execution_count": 9,
   "outputs": [
    {
     "name": "stdout",
     "output_type": "stream",
     "text": [
      "https://data.neonscience.org/api/v0/data/DP1.10107.001/ABBY/2017-06?release=RELEASE-2023\n",
      "https://data.neonscience.org/api/v0/data/DP1.10107.001/BARR/2017-08?release=RELEASE-2023\n",
      "https://data.neonscience.org/api/v0/data/DP1.10107.001/BART/2014-05?release=RELEASE-2023\n",
      "https://data.neonscience.org/api/v0/data/DP1.10107.001/BART/2014-06?release=RELEASE-2023\n",
      "https://data.neonscience.org/api/v0/data/DP1.10107.001/BART/2014-07?release=RELEASE-2023\n",
      "https://data.neonscience.org/api/v0/data/DP1.10107.001/BART/2014-08?release=RELEASE-2023\n",
      "https://data.neonscience.org/api/v0/data/DP1.10107.001/BART/2016-07?release=RELEASE-2023\n",
      "https://data.neonscience.org/api/v0/data/DP1.10107.001/BART/2017-06?release=RELEASE-2023\n",
      "https://data.neonscience.org/api/v0/data/DP1.10107.001/BLAN/2017-07?release=RELEASE-2023\n",
      "https://data.neonscience.org/api/v0/data/DP1.10107.001/BONA/2018-09?release=RELEASE-2023\n",
      "https://data.neonscience.org/api/v0/data/DP1.10107.001/BONA/2019-08?release=RELEASE-2023\n",
      "https://data.neonscience.org/api/v0/data/DP1.10107.001/CLBJ/2016-08?release=RELEASE-2023\n",
      "https://data.neonscience.org/api/v0/data/DP1.10107.001/CLBJ/2017-04?release=RELEASE-2023\n",
      "https://data.neonscience.org/api/v0/data/DP1.10107.001/CLBJ/2018-04?release=RELEASE-2023\n",
      "https://data.neonscience.org/api/v0/data/DP1.10107.001/CLBJ/2019-04?release=RELEASE-2023\n",
      "https://data.neonscience.org/api/v0/data/DP1.10107.001/CPER/2013-07?release=RELEASE-2023\n",
      "https://data.neonscience.org/api/v0/data/DP1.10107.001/CPER/2013-10?release=RELEASE-2023\n",
      "https://data.neonscience.org/api/v0/data/DP1.10107.001/CPER/2014-01?release=RELEASE-2023\n",
      "https://data.neonscience.org/api/v0/data/DP1.10107.001/CPER/2014-04?release=RELEASE-2023\n",
      "https://data.neonscience.org/api/v0/data/DP1.10107.001/CPER/2014-07?release=RELEASE-2023\n",
      "https://data.neonscience.org/api/v0/data/DP1.10107.001/CPER/2016-07?release=RELEASE-2023\n",
      "https://data.neonscience.org/api/v0/data/DP1.10107.001/CPER/2017-07?release=RELEASE-2023\n",
      "https://data.neonscience.org/api/v0/data/DP1.10107.001/CPER/2018-07?release=RELEASE-2023\n",
      "https://data.neonscience.org/api/v0/data/DP1.10107.001/CPER/2019-06?release=RELEASE-2023\n",
      "https://data.neonscience.org/api/v0/data/DP1.10107.001/DCFS/2019-07?release=RELEASE-2023\n",
      "https://data.neonscience.org/api/v0/data/DP1.10107.001/DCFS/2019-10?release=RELEASE-2023\n",
      "https://data.neonscience.org/api/v0/data/DP1.10107.001/DEJU/2016-08?release=RELEASE-2023\n",
      "https://data.neonscience.org/api/v0/data/DP1.10107.001/DEJU/2017-06?release=RELEASE-2023\n",
      "https://data.neonscience.org/api/v0/data/DP1.10107.001/DEJU/2018-06?release=RELEASE-2023\n",
      "https://data.neonscience.org/api/v0/data/DP1.10107.001/DELA/2016-08?release=RELEASE-2023\n",
      "https://data.neonscience.org/api/v0/data/DP1.10107.001/DELA/2019-06?release=RELEASE-2023\n",
      "https://data.neonscience.org/api/v0/data/DP1.10107.001/DSNY/2013-07?release=RELEASE-2023\n",
      "https://data.neonscience.org/api/v0/data/DP1.10107.001/DSNY/2013-11?release=RELEASE-2023\n",
      "https://data.neonscience.org/api/v0/data/DP1.10107.001/DSNY/2014-03?release=RELEASE-2023\n",
      "https://data.neonscience.org/api/v0/data/DP1.10107.001/DSNY/2014-04?release=RELEASE-2023\n",
      "https://data.neonscience.org/api/v0/data/DP1.10107.001/DSNY/2014-09?release=RELEASE-2023\n",
      "https://data.neonscience.org/api/v0/data/DP1.10107.001/DSNY/2016-07?release=RELEASE-2023\n",
      "https://data.neonscience.org/api/v0/data/DP1.10107.001/DSNY/2017-08?release=RELEASE-2023\n",
      "https://data.neonscience.org/api/v0/data/DP1.10107.001/DSNY/2018-08?release=RELEASE-2023\n",
      "https://data.neonscience.org/api/v0/data/DP1.10107.001/GRSM/2016-07?release=RELEASE-2023\n",
      "https://data.neonscience.org/api/v0/data/DP1.10107.001/GRSM/2017-07?release=RELEASE-2023\n",
      "https://data.neonscience.org/api/v0/data/DP1.10107.001/GUAN/2016-09?release=RELEASE-2023\n",
      "https://data.neonscience.org/api/v0/data/DP1.10107.001/GUAN/2016-10?release=RELEASE-2023\n",
      "https://data.neonscience.org/api/v0/data/DP1.10107.001/GUAN/2017-11?release=RELEASE-2023\n",
      "https://data.neonscience.org/api/v0/data/DP1.10107.001/GUAN/2018-09?release=RELEASE-2023\n",
      "https://data.neonscience.org/api/v0/data/DP1.10107.001/GUAN/2019-09?release=RELEASE-2023\n",
      "https://data.neonscience.org/api/v0/data/DP1.10107.001/GUAN/2019-10?release=RELEASE-2023\n",
      "https://data.neonscience.org/api/v0/data/DP1.10107.001/HARV/2013-07?release=RELEASE-2023\n",
      "https://data.neonscience.org/api/v0/data/DP1.10107.001/HARV/2013-11?release=RELEASE-2023\n",
      "https://data.neonscience.org/api/v0/data/DP1.10107.001/HARV/2016-08?release=RELEASE-2023\n",
      "https://data.neonscience.org/api/v0/data/DP1.10107.001/HARV/2017-07?release=RELEASE-2023\n",
      "https://data.neonscience.org/api/v0/data/DP1.10107.001/HARV/2017-08?release=RELEASE-2023\n",
      "https://data.neonscience.org/api/v0/data/DP1.10107.001/HARV/2018-07?release=RELEASE-2023\n",
      "https://data.neonscience.org/api/v0/data/DP1.10107.001/HARV/2019-07?release=RELEASE-2023\n",
      "https://data.neonscience.org/api/v0/data/DP1.10107.001/HEAL/2016-07?release=RELEASE-2023\n",
      "https://data.neonscience.org/api/v0/data/DP1.10107.001/HEAL/2016-08?release=RELEASE-2023\n",
      "https://data.neonscience.org/api/v0/data/DP1.10107.001/HEAL/2016-09?release=RELEASE-2023\n",
      "https://data.neonscience.org/api/v0/data/DP1.10107.001/HEAL/2017-07?release=RELEASE-2023\n",
      "https://data.neonscience.org/api/v0/data/DP1.10107.001/JERC/2014-08?release=RELEASE-2023\n",
      "https://data.neonscience.org/api/v0/data/DP1.10107.001/JERC/2014-09?release=RELEASE-2023\n",
      "https://data.neonscience.org/api/v0/data/DP1.10107.001/JERC/2016-07?release=RELEASE-2023\n",
      "https://data.neonscience.org/api/v0/data/DP1.10107.001/JERC/2017-07?release=RELEASE-2023\n",
      "https://data.neonscience.org/api/v0/data/DP1.10107.001/JERC/2019-07?release=RELEASE-2023\n",
      "https://data.neonscience.org/api/v0/data/DP1.10107.001/JORN/2017-08?release=RELEASE-2023\n",
      "https://data.neonscience.org/api/v0/data/DP1.10107.001/KONA/2017-08?release=RELEASE-2023\n",
      "https://data.neonscience.org/api/v0/data/DP1.10107.001/KONA/2019-06?release=RELEASE-2023\n",
      "https://data.neonscience.org/api/v0/data/DP1.10107.001/KONZ/2016-07?release=RELEASE-2023\n",
      "https://data.neonscience.org/api/v0/data/DP1.10107.001/KONZ/2017-07?release=RELEASE-2023\n",
      "https://data.neonscience.org/api/v0/data/DP1.10107.001/KONZ/2018-07?release=RELEASE-2023\n",
      "https://data.neonscience.org/api/v0/data/DP1.10107.001/KONZ/2019-07?release=RELEASE-2023\n",
      "https://data.neonscience.org/api/v0/data/DP1.10107.001/LAJA/2016-09?release=RELEASE-2023\n",
      "https://data.neonscience.org/api/v0/data/DP1.10107.001/LAJA/2017-11?release=RELEASE-2023\n",
      "https://data.neonscience.org/api/v0/data/DP1.10107.001/LENO/2016-08?release=RELEASE-2023\n",
      "https://data.neonscience.org/api/v0/data/DP1.10107.001/LENO/2018-07?release=RELEASE-2023\n",
      "https://data.neonscience.org/api/v0/data/DP1.10107.001/MLBS/2018-06?release=RELEASE-2023\n",
      "https://data.neonscience.org/api/v0/data/DP1.10107.001/MOAB/2016-07?release=RELEASE-2023\n",
      "https://data.neonscience.org/api/v0/data/DP1.10107.001/MOAB/2017-05?release=RELEASE-2023\n",
      "https://data.neonscience.org/api/v0/data/DP1.10107.001/NIWO/2016-08?release=RELEASE-2023\n",
      "https://data.neonscience.org/api/v0/data/DP1.10107.001/NIWO/2017-07?release=RELEASE-2023\n",
      "https://data.neonscience.org/api/v0/data/DP1.10107.001/NIWO/2017-08?release=RELEASE-2023\n",
      "https://data.neonscience.org/api/v0/data/DP1.10107.001/NIWO/2018-07?release=RELEASE-2023\n",
      "https://data.neonscience.org/api/v0/data/DP1.10107.001/NIWO/2018-08?release=RELEASE-2023\n",
      "https://data.neonscience.org/api/v0/data/DP1.10107.001/NIWO/2019-07?release=RELEASE-2023\n",
      "https://data.neonscience.org/api/v0/data/DP1.10107.001/NIWO/2019-08?release=RELEASE-2023\n",
      "https://data.neonscience.org/api/v0/data/DP1.10107.001/OAES/2016-08?release=RELEASE-2023\n",
      "https://data.neonscience.org/api/v0/data/DP1.10107.001/OAES/2017-06?release=RELEASE-2023\n",
      "https://data.neonscience.org/api/v0/data/DP1.10107.001/OAES/2018-05?release=RELEASE-2023\n",
      "https://data.neonscience.org/api/v0/data/DP1.10107.001/ONAQ/2016-07?release=RELEASE-2023\n",
      "https://data.neonscience.org/api/v0/data/DP1.10107.001/ONAQ/2017-06?release=RELEASE-2023\n",
      "https://data.neonscience.org/api/v0/data/DP1.10107.001/ONAQ/2018-05?release=RELEASE-2023\n",
      "https://data.neonscience.org/api/v0/data/DP1.10107.001/ONAQ/2019-06?release=RELEASE-2023\n",
      "https://data.neonscience.org/api/v0/data/DP1.10107.001/ORNL/2016-07?release=RELEASE-2023\n",
      "https://data.neonscience.org/api/v0/data/DP1.10107.001/ORNL/2017-06?release=RELEASE-2023\n",
      "https://data.neonscience.org/api/v0/data/DP1.10107.001/ORNL/2018-07?release=RELEASE-2023\n",
      "https://data.neonscience.org/api/v0/data/DP1.10107.001/ORNL/2019-06?release=RELEASE-2023\n",
      "https://data.neonscience.org/api/v0/data/DP1.10107.001/OSBS/2013-07?release=RELEASE-2023\n",
      "https://data.neonscience.org/api/v0/data/DP1.10107.001/OSBS/2013-11?release=RELEASE-2023\n",
      "https://data.neonscience.org/api/v0/data/DP1.10107.001/OSBS/2014-03?release=RELEASE-2023\n",
      "https://data.neonscience.org/api/v0/data/DP1.10107.001/OSBS/2014-09?release=RELEASE-2023\n",
      "https://data.neonscience.org/api/v0/data/DP1.10107.001/OSBS/2016-08?release=RELEASE-2023\n",
      "https://data.neonscience.org/api/v0/data/DP1.10107.001/OSBS/2017-07?release=RELEASE-2023\n",
      "https://data.neonscience.org/api/v0/data/DP1.10107.001/OSBS/2018-07?release=RELEASE-2023\n",
      "https://data.neonscience.org/api/v0/data/DP1.10107.001/OSBS/2019-07?release=RELEASE-2023\n",
      "https://data.neonscience.org/api/v0/data/DP1.10107.001/PUUM/2019-01?release=RELEASE-2023\n",
      "https://data.neonscience.org/api/v0/data/DP1.10107.001/RMNP/2017-08?release=RELEASE-2023\n",
      "https://data.neonscience.org/api/v0/data/DP1.10107.001/SCBI/2014-06?release=RELEASE-2023\n",
      "https://data.neonscience.org/api/v0/data/DP1.10107.001/SCBI/2014-07?release=RELEASE-2023\n",
      "https://data.neonscience.org/api/v0/data/DP1.10107.001/SCBI/2014-08?release=RELEASE-2023\n",
      "https://data.neonscience.org/api/v0/data/DP1.10107.001/SCBI/2014-09?release=RELEASE-2023\n",
      "https://data.neonscience.org/api/v0/data/DP1.10107.001/SCBI/2015-11?release=RELEASE-2023\n",
      "https://data.neonscience.org/api/v0/data/DP1.10107.001/SCBI/2017-07?release=RELEASE-2023\n",
      "https://data.neonscience.org/api/v0/data/DP1.10107.001/SCBI/2018-07?release=RELEASE-2023\n",
      "https://data.neonscience.org/api/v0/data/DP1.10107.001/SCBI/2019-07?release=RELEASE-2023\n",
      "https://data.neonscience.org/api/v0/data/DP1.10107.001/SERC/2017-07?release=RELEASE-2023\n",
      "https://data.neonscience.org/api/v0/data/DP1.10107.001/SJER/2017-03?release=RELEASE-2023\n",
      "https://data.neonscience.org/api/v0/data/DP1.10107.001/SJER/2018-02?release=RELEASE-2023\n",
      "https://data.neonscience.org/api/v0/data/DP1.10107.001/SJER/2019-03?release=RELEASE-2023\n",
      "https://data.neonscience.org/api/v0/data/DP1.10107.001/SOAP/2018-05?release=RELEASE-2023\n",
      "https://data.neonscience.org/api/v0/data/DP1.10107.001/SRER/2017-08?release=RELEASE-2023\n",
      "https://data.neonscience.org/api/v0/data/DP1.10107.001/SRER/2018-08?release=RELEASE-2023\n",
      "https://data.neonscience.org/api/v0/data/DP1.10107.001/SRER/2019-08?release=RELEASE-2023\n",
      "https://data.neonscience.org/api/v0/data/DP1.10107.001/STEI/2016-07?release=RELEASE-2023\n",
      "https://data.neonscience.org/api/v0/data/DP1.10107.001/STEI/2017-07?release=RELEASE-2023\n",
      "https://data.neonscience.org/api/v0/data/DP1.10107.001/STER/2013-06?release=RELEASE-2023\n",
      "https://data.neonscience.org/api/v0/data/DP1.10107.001/STER/2013-12?release=RELEASE-2023\n",
      "https://data.neonscience.org/api/v0/data/DP1.10107.001/STER/2014-03?release=RELEASE-2023\n",
      "https://data.neonscience.org/api/v0/data/DP1.10107.001/STER/2014-06?release=RELEASE-2023\n",
      "https://data.neonscience.org/api/v0/data/DP1.10107.001/STER/2016-08?release=RELEASE-2023\n",
      "https://data.neonscience.org/api/v0/data/DP1.10107.001/STER/2017-06?release=RELEASE-2023\n",
      "https://data.neonscience.org/api/v0/data/DP1.10107.001/TALL/2014-05?release=RELEASE-2023\n",
      "https://data.neonscience.org/api/v0/data/DP1.10107.001/TALL/2014-07?release=RELEASE-2023\n",
      "https://data.neonscience.org/api/v0/data/DP1.10107.001/TALL/2016-08?release=RELEASE-2023\n",
      "https://data.neonscience.org/api/v0/data/DP1.10107.001/TALL/2017-06?release=RELEASE-2023\n",
      "https://data.neonscience.org/api/v0/data/DP1.10107.001/TALL/2018-06?release=RELEASE-2023\n",
      "https://data.neonscience.org/api/v0/data/DP1.10107.001/TALL/2019-06?release=RELEASE-2023\n",
      "https://data.neonscience.org/api/v0/data/DP1.10107.001/TOOL/2017-07?release=RELEASE-2023\n",
      "https://data.neonscience.org/api/v0/data/DP1.10107.001/TOOL/2018-08?release=RELEASE-2023\n",
      "https://data.neonscience.org/api/v0/data/DP1.10107.001/TOOL/2019-08?release=RELEASE-2023\n",
      "https://data.neonscience.org/api/v0/data/DP1.10107.001/TREE/2017-07?release=RELEASE-2023\n",
      "https://data.neonscience.org/api/v0/data/DP1.10107.001/UKFS/2016-07?release=RELEASE-2023\n",
      "https://data.neonscience.org/api/v0/data/DP1.10107.001/UKFS/2017-07?release=RELEASE-2023\n",
      "https://data.neonscience.org/api/v0/data/DP1.10107.001/UKFS/2017-08?release=RELEASE-2023\n",
      "https://data.neonscience.org/api/v0/data/DP1.10107.001/UKFS/2018-08?release=RELEASE-2023\n",
      "https://data.neonscience.org/api/v0/data/DP1.10107.001/UNDE/2016-07?release=RELEASE-2023\n",
      "https://data.neonscience.org/api/v0/data/DP1.10107.001/UNDE/2016-08?release=RELEASE-2023\n",
      "https://data.neonscience.org/api/v0/data/DP1.10107.001/UNDE/2017-08?release=RELEASE-2023\n",
      "https://data.neonscience.org/api/v0/data/DP1.10107.001/UNDE/2018-07?release=RELEASE-2023\n",
      "https://data.neonscience.org/api/v0/data/DP1.10107.001/UNDE/2019-07?release=RELEASE-2023\n",
      "https://data.neonscience.org/api/v0/data/DP1.10107.001/WOOD/2014-05?release=RELEASE-2023\n",
      "https://data.neonscience.org/api/v0/data/DP1.10107.001/WOOD/2014-07?release=RELEASE-2023\n",
      "https://data.neonscience.org/api/v0/data/DP1.10107.001/WOOD/2014-09?release=RELEASE-2023\n",
      "https://data.neonscience.org/api/v0/data/DP1.10107.001/WOOD/2017-07?release=RELEASE-2023\n",
      "https://data.neonscience.org/api/v0/data/DP1.10107.001/WOOD/2018-07?release=RELEASE-2023\n",
      "https://data.neonscience.org/api/v0/data/DP1.10107.001/WOOD/2019-07?release=RELEASE-2023\n",
      "https://data.neonscience.org/api/v0/data/DP1.10107.001/WOOD/2019-10?release=RELEASE-2023\n",
      "https://data.neonscience.org/api/v0/data/DP1.10107.001/WREF/2018-06?release=RELEASE-2023\n",
      "https://data.neonscience.org/api/v0/data/DP1.10107.001/WREF/2019-06?release=RELEASE-2023\n",
      "https://data.neonscience.org/api/v0/data/DP1.10107.001/YELL/2018-07?release=RELEASE-2023\n",
      "https://data.neonscience.org/api/v0/data/DP1.10107.001/YELL/2019-08?release=RELEASE-2023\n",
      "https://data.neonscience.org/api/v0/data/DP1.10107.001/YELL/2019-10?release=RELEASE-2023\n",
      "mms_metagenomeSequencing\n",
      "mms_metagenomeDnaExtraction\n",
      "mms_rawDataFiles\n"
     ]
    }
   ],
   "source": [
    "lod = []\n",
    "file_categories = set()\n",
    "df_dict = {}\n",
    "\n",
    "for i in site_wise:\n",
    "    # print(i['siteCode'])\n",
    "    availableDataUrls = i['availableDataUrls']\n",
    "    for j in availableDataUrls:\n",
    "        print(j)\n",
    "        data_files_response = requests.get(j).json()\n",
    "        data_file_objects = data_files_response['data']['files']\n",
    "        for k in data_file_objects:\n",
    "            data_file_name = k['name']\n",
    "            data_file_name_tokens = data_file_name.split(\".\")\n",
    "            data_file_name_dict = {\n",
    "                \"data_owner\": data_file_name_tokens[0],\n",
    "                \"geographical_domain\": data_file_name_tokens[1],\n",
    "                \"siteCode\": data_file_name_tokens[2],\n",
    "                \"productCode\": f\"{data_file_name_tokens[3]}.{data_file_name_tokens[4]}.{data_file_name_tokens[5]}\",\n",
    "                \"file_category\": data_file_name_tokens[6],\n",
    "                # \"timestamp\": data_file_name_tokens[7],\n",
    "                # \"extension\": data_file_name_tokens[8],\n",
    "            }\n",
    "            if data_file_name_dict['file_category'] in useful_file_categories:\n",
    "                # print(k['url'])\n",
    "                if data_file_name_dict['file_category'] in df_dict:\n",
    "                    more = pd.read_csv(k['url'])\n",
    "                    df_dict[data_file_name_dict['file_category']] = pd.concat(\n",
    "                        [df_dict[data_file_name_dict['file_category']], more], ignore_index=True)\n",
    "                else:\n",
    "                    df_dict[data_file_name_dict['file_category']] = pd.read_csv(k['url'])\n",
    "\n",
    "for k, v in df_dict.items():\n",
    "    print(k)\n",
    "    v.to_csv(f\"../local/{k}.csv\", index=False)\n",
    "    # print(v)\n"
   ],
   "metadata": {
    "collapsed": false,
    "ExecuteTime": {
     "end_time": "2023-06-05T22:49:43.607086Z",
     "start_time": "2023-06-05T22:47:34.613808Z"
    }
   }
  },
  {
   "cell_type": "code",
   "execution_count": null,
   "outputs": [],
   "source": [
    "# write_dicts_to_tsv(lod, \"../local/soil_metagenome_filename_tokens.tsv\")"
   ],
   "metadata": {
    "collapsed": false
   }
  },
  {
   "cell_type": "code",
   "execution_count": null,
   "outputs": [],
   "source": [
    "# pprint.pprint(file_categories)"
   ],
   "metadata": {
    "collapsed": false
   }
  },
  {
   "cell_type": "code",
   "execution_count": null,
   "outputs": [],
   "source": [],
   "metadata": {
    "collapsed": false
   }
  }
 ],
 "metadata": {
  "kernelspec": {
   "display_name": "Python 3",
   "language": "python",
   "name": "python3"
  },
  "language_info": {
   "codemirror_mode": {
    "name": "ipython",
    "version": 2
   },
   "file_extension": ".py",
   "mimetype": "text/x-python",
   "name": "python",
   "nbconvert_exporter": "python",
   "pygments_lexer": "ipython2",
   "version": "2.7.6"
  }
 },
 "nbformat": 4,
 "nbformat_minor": 0
}
