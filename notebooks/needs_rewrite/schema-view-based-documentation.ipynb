{
 "cells": [
  {
   "cell_type": "code",
   "metadata": {
    "collapsed": true,
    "ExecuteTime": {
     "end_time": "2024-06-07T20:23:57.872953Z",
     "start_time": "2024-06-07T20:23:57.203529Z"
    }
   },
   "source": [
    "from linkml_runtime import SchemaView\n",
    "from linkml_runtime.dumpers import yaml_dumper\n",
    "import pprint\n"
   ],
   "outputs": [],
   "execution_count": 1
  },
  {
   "cell_type": "code",
   "source": [
    "schema_file = \"../src/schema/nmdc.yaml\"\n",
    "view = SchemaView(schema_file)"
   ],
   "metadata": {
    "collapsed": false,
    "ExecuteTime": {
     "end_time": "2024-06-07T20:23:59.106015Z",
     "start_time": "2024-06-07T20:23:59.008473Z"
    }
   },
   "outputs": [],
   "execution_count": 2
  },
  {
   "cell_type": "code",
   "source": [
    "sa = view.slot_ancestors(\"id\")"
   ],
   "metadata": {
    "collapsed": false,
    "ExecuteTime": {
     "end_time": "2024-06-07T20:24:01.349018Z",
     "start_time": "2024-06-07T20:23:59.899296Z"
    }
   },
   "outputs": [],
   "execution_count": 3
  },
  {
   "cell_type": "code",
   "source": [
    "# print(yaml_dumper.dumps(s))"
   ],
   "metadata": {
    "collapsed": false,
    "ExecuteTime": {
     "end_time": "2024-06-07T20:24:01.354905Z",
     "start_time": "2024-06-07T20:24:01.351059Z"
    }
   },
   "outputs": [],
   "execution_count": 4
  },
  {
   "cell_type": "code",
   "source": [
    "pprint.pprint(sa)"
   ],
   "metadata": {
    "collapsed": false,
    "ExecuteTime": {
     "end_time": "2024-06-07T20:24:02.039721Z",
     "start_time": "2024-06-07T20:24:02.035403Z"
    }
   },
   "outputs": [
    {
     "name": "stdout",
     "output_type": "stream",
     "text": [
      "['id']\n"
     ]
    }
   ],
   "execution_count": 5
  },
  {
   "cell_type": "code",
   "source": [
    "input_users = view.get_classes_by_slot(slot=\"has_input\", include_induced=True)\n",
    "# pprint.pprint(input_users)"
   ],
   "metadata": {
    "collapsed": false,
    "ExecuteTime": {
     "end_time": "2024-06-07T20:24:03.977768Z",
     "start_time": "2024-06-07T20:24:03.164552Z"
    }
   },
   "outputs": [
    {
     "ename": "AttributeError",
     "evalue": "'str' object has no attribute 'name'",
     "output_type": "error",
     "traceback": [
      "\u001B[0;31m---------------------------------------------------------------------------\u001B[0m",
      "\u001B[0;31mAttributeError\u001B[0m                            Traceback (most recent call last)",
      "Cell \u001B[0;32mIn[6], line 1\u001B[0m\n\u001B[0;32m----> 1\u001B[0m input_users \u001B[38;5;241m=\u001B[39m \u001B[43mview\u001B[49m\u001B[38;5;241;43m.\u001B[39;49m\u001B[43mget_classes_by_slot\u001B[49m\u001B[43m(\u001B[49m\u001B[43mslot\u001B[49m\u001B[38;5;241;43m=\u001B[39;49m\u001B[38;5;124;43m\"\u001B[39;49m\u001B[38;5;124;43mhas_input\u001B[39;49m\u001B[38;5;124;43m\"\u001B[39;49m\u001B[43m,\u001B[49m\u001B[43m \u001B[49m\u001B[43minclude_induced\u001B[49m\u001B[38;5;241;43m=\u001B[39;49m\u001B[38;5;28;43;01mTrue\u001B[39;49;00m\u001B[43m)\u001B[49m\n\u001B[1;32m      2\u001B[0m \u001B[38;5;66;03m# pprint.pprint(input_users)\u001B[39;00m\n",
      "File \u001B[0;32m~/.cache/pypoetry/virtualenvs/nmdc-schema-gXr5ogK9-py3.10/lib/python3.10/site-packages/linkml_runtime/utils/schemaview.py:1589\u001B[0m, in \u001B[0;36mSchemaView.get_classes_by_slot\u001B[0;34m(self, slot, include_induced)\u001B[0m\n\u001B[1;32m   1586\u001B[0m all_classes \u001B[38;5;241m=\u001B[39m \u001B[38;5;28mself\u001B[39m\u001B[38;5;241m.\u001B[39mall_classes()\n\u001B[1;32m   1588\u001B[0m \u001B[38;5;28;01mfor\u001B[39;00m c_name, c \u001B[38;5;129;01min\u001B[39;00m all_classes\u001B[38;5;241m.\u001B[39mitems():\n\u001B[0;32m-> 1589\u001B[0m     \u001B[38;5;28;01mif\u001B[39;00m \u001B[43mslot\u001B[49m\u001B[38;5;241;43m.\u001B[39;49m\u001B[43mname\u001B[49m \u001B[38;5;129;01min\u001B[39;00m c\u001B[38;5;241m.\u001B[39mslots:\n\u001B[1;32m   1590\u001B[0m         classes_set\u001B[38;5;241m.\u001B[39madd(c_name)\n\u001B[1;32m   1592\u001B[0m \u001B[38;5;28;01mif\u001B[39;00m include_induced:\n",
      "\u001B[0;31mAttributeError\u001B[0m: 'str' object has no attribute 'name'"
     ]
    }
   ],
   "execution_count": 6
  },
  {
   "cell_type": "code",
   "execution_count": 16,
   "outputs": [
    {
     "ename": "AttributeError",
     "evalue": "'str' object has no attribute 'name'",
     "output_type": "error",
     "traceback": [
      "\u001B[0;31m---------------------------------------------------------------------------\u001B[0m",
      "\u001B[0;31mAttributeError\u001B[0m                            Traceback (most recent call last)",
      "Cell \u001B[0;32mIn[16], line 1\u001B[0m\n\u001B[0;32m----> 1\u001B[0m input_users \u001B[38;5;241m=\u001B[39m \u001B[43mview\u001B[49m\u001B[38;5;241;43m.\u001B[39;49m\u001B[43mget_classes_by_slot\u001B[49m\u001B[43m(\u001B[49m\u001B[43mslot\u001B[49m\u001B[38;5;241;43m=\u001B[39;49m\u001B[38;5;124;43m\"\u001B[39;49m\u001B[38;5;124;43mhas_input\u001B[39;49m\u001B[38;5;124;43m\"\u001B[39;49m\u001B[43m)\u001B[49m\n",
      "File \u001B[0;32m~/Library/Caches/pypoetry/virtualenvs/nmdc-schema-MTtWF7zd-py3.9/lib/python3.9/site-packages/linkml_runtime/utils/schemaview.py:1450\u001B[0m, in \u001B[0;36mSchemaView.get_classes_by_slot\u001B[0;34m(self, slot, include_induced)\u001B[0m\n\u001B[1;32m   1446\u001B[0m slots_list \u001B[38;5;241m=\u001B[39m []  \u001B[38;5;66;03m# list of all direct or induced slots\u001B[39;00m\n\u001B[1;32m   1448\u001B[0m \u001B[38;5;28;01mfor\u001B[39;00m c_name, c \u001B[38;5;129;01min\u001B[39;00m \u001B[38;5;28mself\u001B[39m\u001B[38;5;241m.\u001B[39mall_classes()\u001B[38;5;241m.\u001B[39mitems():\n\u001B[1;32m   1449\u001B[0m     \u001B[38;5;66;03m# check if slot is direct specification on class\u001B[39;00m\n\u001B[0;32m-> 1450\u001B[0m     \u001B[38;5;28;01mif\u001B[39;00m \u001B[43mslot\u001B[49m\u001B[38;5;241;43m.\u001B[39;49m\u001B[43mname\u001B[49m \u001B[38;5;129;01min\u001B[39;00m c\u001B[38;5;241m.\u001B[39mslots:\n\u001B[1;32m   1451\u001B[0m         slots_list\u001B[38;5;241m.\u001B[39mappend(c_name)\n\u001B[1;32m   1453\u001B[0m \u001B[38;5;66;03m# include induced classes also if requested\u001B[39;00m\n",
      "\u001B[0;31mAttributeError\u001B[0m: 'str' object has no attribute 'name'"
     ]
    }
   ],
   "source": [
    "input_users = view.get_classes_by_slot(slot=\"has_input\")"
   ],
   "metadata": {
    "collapsed": false,
    "ExecuteTime": {
     "end_time": "2023-06-05T14:26:18.533938Z",
     "start_time": "2023-06-05T14:26:18.514210Z"
    }
   }
  },
  {
   "cell_type": "code",
   "execution_count": 19,
   "outputs": [],
   "source": [
    "all_class_names = list(view.all_classes().keys())\n",
    "all_class_names.sort()"
   ],
   "metadata": {
    "collapsed": false,
    "ExecuteTime": {
     "end_time": "2023-06-05T14:28:00.985779Z",
     "start_time": "2023-06-05T14:28:00.982058Z"
    }
   }
  },
  {
   "cell_type": "code",
   "execution_count": 26,
   "outputs": [
    {
     "name": "stdout",
     "output_type": "stream",
     "text": [
      "BiosampleProcessing uses has_input\n",
      "CollectingBiosamplesFromSite uses has_inputs\n",
      "CollectingBiosamplesFromSite uses has_outputs\n",
      "Extraction uses has_inputs\n",
      "Extraction uses has_outputs\n",
      "LibraryPreparation uses has_inputs\n",
      "LibraryPreparation uses has_outputs\n",
      "MagsAnalysis uses has_input\n",
      "MagsAnalysis uses has_output\n",
      "MetabolomicsAnalysis uses has_input\n",
      "MetabolomicsAnalysis uses has_output\n",
      "MetagenomeAnnotation uses has_input\n",
      "MetagenomeAnnotation uses has_output\n",
      "MetagenomeAssembly uses has_input\n",
      "MetagenomeAssembly uses has_output\n",
      "MetagenomeSequencing uses has_input\n",
      "MetagenomeSequencing uses has_output\n",
      "MetaproteomicsAnalysis uses has_input\n",
      "MetaproteomicsAnalysis uses has_output\n",
      "MetatranscriptomeAnalysis uses has_input\n",
      "MetatranscriptomeAnalysis uses has_output\n",
      "MetatranscriptomeAnnotation uses has_input\n",
      "MetatranscriptomeAnnotation uses has_output\n",
      "MetatranscriptomeAssembly uses has_input\n",
      "MetatranscriptomeAssembly uses has_output\n",
      "NomAnalysis uses has_input\n",
      "NomAnalysis uses has_output\n",
      "OmicsProcessing uses has_input\n",
      "OmicsProcessing uses has_output\n",
      "PlannedProcess uses has_inputs\n",
      "PlannedProcess uses has_outputs\n",
      "Pooling uses has_inputs\n",
      "Pooling uses has_outputs\n",
      "ReadBasedTaxonomyAnalysis uses has_input\n",
      "ReadBasedTaxonomyAnalysis uses has_output\n",
      "ReadQcAnalysis uses has_input\n",
      "ReadQcAnalysis uses has_output\n",
      "WorkflowExecution uses has_input\n",
      "WorkflowExecution uses has_output\n"
     ]
    }
   ],
   "source": [
    "slots_of_interest = ['has_input', 'has_inputs', 'has_output', 'has_outputs']\n",
    "for class_name in all_class_names:\n",
    "    class_slots = view.class_induced_slots(class_name)\n",
    "    class_slot_names = [s.name for s in class_slots]\n",
    "    for slot_name in class_slot_names:\n",
    "        if slot_name in slots_of_interest:\n",
    "            print(f\"{class_name} uses {slot_name}\")\n"
   ],
   "metadata": {
    "collapsed": false,
    "ExecuteTime": {
     "end_time": "2023-06-05T14:34:45.272077Z",
     "start_time": "2023-06-05T14:34:45.267075Z"
    }
   }
  },
  {
   "cell_type": "code",
   "execution_count": null,
   "outputs": [],
   "source": [],
   "metadata": {
    "collapsed": false
   }
  }
 ],
 "metadata": {
  "kernelspec": {
   "display_name": "Python 3",
   "language": "python",
   "name": "python3"
  },
  "language_info": {
   "codemirror_mode": {
    "name": "ipython",
    "version": 2
   },
   "file_extension": ".py",
   "mimetype": "text/x-python",
   "name": "python",
   "nbconvert_exporter": "python",
   "pygments_lexer": "ipython2",
   "version": "2.7.6"
  }
 },
 "nbformat": 4,
 "nbformat_minor": 0
}
