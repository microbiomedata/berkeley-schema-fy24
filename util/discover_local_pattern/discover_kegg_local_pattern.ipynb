{
 "cells": [
  {
   "cell_type": "code",
   "execution_count": 1,
   "id": "2efb5081",
   "metadata": {},
   "outputs": [],
   "source": [
    "from Bio.KEGG.REST import kegg_list\n",
    "from io import StringIO\n",
    "import pandas as pd\n",
    "from tdda import rexpy"
   ]
  },
  {
   "cell_type": "markdown",
   "id": "105635ba",
   "metadata": {},
   "source": [
    "https://widdowquinn.github.io/2018-03-06-ibioic/02-sequence_databases/09-KEGG_programming.html"
   ]
  },
  {
   "cell_type": "code",
   "execution_count": 2,
   "id": "42020114",
   "metadata": {},
   "outputs": [],
   "source": [
    "kegg_db = \"ko\""
   ]
  },
  {
   "cell_type": "code",
   "execution_count": 3,
   "id": "99eba6e0",
   "metadata": {},
   "outputs": [],
   "source": [
    "my_sep = \"\\t\"\n",
    "target_dir = \"target\""
   ]
  },
  {
   "cell_type": "code",
   "execution_count": 2,
   "id": "770b53cf",
   "metadata": {},
   "outputs": [],
   "source": [
    "kegg_TextIOWrapper = kegg_list(kegg_db).read()"
   ]
  },
  {
   "cell_type": "code",
   "execution_count": 3,
   "id": "6122e19c",
   "metadata": {},
   "outputs": [],
   "source": [
    "kegg = pd.read_csv(StringIO(kegg_TextIOWrapper), sep=my_sep, header=None)"
   ]
  },
  {
   "cell_type": "code",
   "execution_count": 4,
   "id": "f43723e2",
   "metadata": {},
   "outputs": [],
   "source": [
    "# kegg"
   ]
  },
  {
   "cell_type": "code",
   "execution_count": 5,
   "id": "c12c16fe",
   "metadata": {},
   "outputs": [],
   "source": [
    "id_list = list(kegg[0])"
   ]
  },
  {
   "cell_type": "code",
   "execution_count": 6,
   "id": "5f4aa693",
   "metadata": {},
   "outputs": [],
   "source": [
    "id_pattern = rexpy.extract(id_list)"
   ]
  },
  {
   "cell_type": "code",
   "execution_count": 7,
   "id": "c94e7e38",
   "metadata": {},
   "outputs": [
    {
     "data": {
      "text/plain": [
       "['^ko:[A-Z]\\\\d{5}$']"
      ]
     },
     "execution_count": 7,
     "metadata": {},
     "output_type": "execute_result"
    }
   ],
   "source": [
    "id_pattern"
   ]
  },
  {
   "cell_type": "markdown",
   "id": "f81266d1",
   "metadata": {},
   "source": [
    "**Don't the local parts all start with K (not [A-Z]?)**"
   ]
  },
  {
   "cell_type": "code",
   "execution_count": 4,
   "id": "80be10c5",
   "metadata": {},
   "outputs": [
    {
     "name": "stdout",
     "output_type": "stream",
     "text": [
      "target/ko.tsv\n"
     ]
    }
   ],
   "source": [
    "target_file = target_dir + \"/\" + kegg_db + \".tsv\"\n",
    "print(target_file)"
   ]
  },
  {
   "cell_type": "code",
   "execution_count": null,
   "id": "0338d345",
   "metadata": {},
   "outputs": [],
   "source": [
    "kegg.to_csv(target_dir + \"/\" + kegg_db + \".tsv\", sep=my_sep, index=False)"
   ]
  }
 ],
 "metadata": {
  "kernelspec": {
   "display_name": "Python 3",
   "language": "python",
   "name": "python3"
  },
  "language_info": {
   "codemirror_mode": {
    "name": "ipython",
    "version": 3
   },
   "file_extension": ".py",
   "mimetype": "text/x-python",
   "name": "python",
   "nbconvert_exporter": "python",
   "pygments_lexer": "ipython3",
   "version": "3.9.5"
  }
 },
 "nbformat": 4,
 "nbformat_minor": 5
}
